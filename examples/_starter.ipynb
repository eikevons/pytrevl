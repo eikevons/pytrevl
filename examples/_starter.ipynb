{
 "cells": [
  {
   "cell_type": "markdown",
   "id": "39776e13-3ad9-48f0-adc9-9d9def047a15",
   "metadata": {
    "jp-MarkdownHeadingCollapsed": true,
    "tags": []
   },
   "source": [
    "# Check connectivity"
   ]
  },
  {
   "cell_type": "code",
   "execution_count": 2,
   "id": "f4bad4ea-b9bb-4446-9b10-b3e858b65e68",
   "metadata": {},
   "outputs": [],
   "source": [
    "<<<<<<< REMOTE CELL DELETED >>>>>>>\n",
    "import os\n",
    "os.environ['X_MIDDLE_BASEURL'] = '<REDACTED>'\n",
    "os.environ['X_MIDDLE_PASSWORD'] = '<REDACTED>' # <-- PUT here the real password"
   ]
  },
  {
   "cell_type": "code",
   "execution_count": 1,
   "id": "ceb55e7a-ee60-4c14-b9ab-8ac2dc4352f9",
   "metadata": {},
   "outputs": [],
   "source": [
    "import pytrevl.api"
   ]
  },
  {
   "cell_type": "code",
   "execution_count": 11,
   "id": "ef196600-f4ec-4783-b768-038a307104f4",
   "metadata": {},
   "outputs": [
    {
     "data": {
      "text/plain": [
       "{'chartService': {'exists': True},\n",
       " 'cubeService': {'exists': True, 'status': {'cubeApi': 'connected'}},\n",
       " 'dashboardService': {'exists': True}}"
      ]
     },
     "execution_count": 11,
     "metadata": {},
     "output_type": "execute_result"
    }
   ],
   "source": [
    "pytrevl.api.xmiddle().status()"
   ]
  },
  {
   "cell_type": "markdown",
   "id": "4607f05b-ec71-4a7e-90cd-e29ffe580e6c",
   "metadata": {
    "tags": []
   },
   "source": [
    "# Build a simple chart"
   ]
  },
  {
   "cell_type": "code",
   "execution_count": 12,
   "id": "879d1ded-8224-44b5-bd74-9301ce79ca71",
   "metadata": {},
   "outputs": [],
   "source": [
    "from pytrevl import ColumnChart, CubeQuery"
   ]
  },
  {
   "cell_type": "code",
   "execution_count": 13,
   "id": "07bb3888-ac4c-4f2c-9c46-039fc09ec290",
   "metadata": {},
   "outputs": [
    {
     "name": "stderr",
     "output_type": "stream",
     "text": [
      "/opt/conda/lib/python3.10/site-packages/IPython/core/display.py:431: UserWarning: Consider using IPython.display.IFrame instead\n",
      "  warnings.warn(\"Consider using IPython.display.IFrame instead\")\n"
     ]
    },
    {
     "data": {
      "text/html": [
       "<iframe width=800 height=400 srcdoc=\" &lt;!DOCTYPE html&gt; &lt;html lang=&quot;en&quot;&gt;   &lt;head&gt;     &lt;meta charset=&quot;utf-8&quot; /&gt;     &lt;link href=&quot;https://www.highcharts.com/highslide/highslide.css&quot; rel=&quot;stylesheet&quot; /&gt;     &lt;script type=&quot;text/javascript&quot; src=&quot;https://ajax.googleapis.com/ajax/libs/jquery/1.9.1/jquery.min.js&quot;&gt;&lt;/script&gt;     &lt;script type=&quot;text/javascript&quot; src=&quot;https://code.highcharts.com/6/highcharts.js&quot;&gt;&lt;/script&gt;     &lt;script type=&quot;text/javascript&quot; src=&quot;https://code.highcharts.com/6/highcharts-more.js&quot;&gt;&lt;/script&gt;     &lt;script type=&quot;text/javascript&quot; src=&quot;https://code.highcharts.com/6/modules/heatmap.js&quot;&gt;&lt;/script&gt;     &lt;script type=&quot;text/javascript&quot; src=&quot;https://code.highcharts.com/6/modules/exporting.js&quot;&gt;&lt;/script&gt;   &lt;/head&gt;   &lt;body style=&quot;margin:0;padding:0&quot;&gt;     &lt;div id=&quot;container&quot; style=&quot;&quot;&gt;Loading....&lt;/div&gt;     &lt;script&gt;       $(function(){         console.log(&#x27;AA&#x27;);         Highcharts.setOptions({ &quot;global&quot;: {}, &quot;lang&quot;: {}, });         var options = {&quot;chart&quot;: {&quot;type&quot;: &quot;column&quot;}, &quot;series&quot;: [{&quot;data&quot;: [{&quot;y&quot;: 41907, &quot;x&quot;: 0}, {&quot;y&quot;: 32004, &quot;x&quot;: 1}, {&quot;y&quot;: 355, &quot;x&quot;: 2}, {&quot;y&quot;: 115, &quot;x&quot;: null}]}], &quot;id&quot;: &quot;example&quot;, &quot;type&quot;: &quot;chart&quot;, &quot;xAxis&quot;: {&quot;categories&quot;: [&quot;Weiblich&quot;, &quot;M\\u00e4nnlich&quot;, &quot;Divers&quot;]}};         var chart = new Highcharts.Chart(&#x27;container&#x27;, options);        });     &lt;/script&gt;   &lt;/body&gt; &lt;/html&gt; \"></iframe>"
      ],
      "text/plain": [
       "<IPython.core.display.HTML object>"
      ]
     },
     "execution_count": 13,
     "metadata": {},
     "output_type": "execute_result"
    }
   ],
   "source": [
    "query = CubeQuery(\n",
    "    'hrm_survey_answers',\n",
    "    ['answer_count'],\n",
    "    ['gender'],\n",
    ")\n",
    "chart = ColumnChart(\n",
    "    query,\n",
    "    id='example',\n",
    "    x=query['gender'],\n",
    "    y=query['answer_count'],\n",
    ")\n",
    "chart.show()"
   ]
  },
  {
   "cell_type": "markdown",
   "id": "17e2500e-4921-4881-87bf-de3b856a9db2",
   "metadata": {},
   "source": [
    "You can get the TREVL object"
   ]
  },
  {
   "cell_type": "code",
   "execution_count": 15,
   "id": "3aaa6297-9ae4-4a9a-85cf-881c26dfcd73",
   "metadata": {},
   "outputs": [
    {
     "data": {
      "text/plain": [
       "{'type': 'chart',\n",
       " 'id': 'example',\n",
       " 'display': {'chart': {'type': 'column'},\n",
       "  'series': [{'x': '$hrm_survey_answers.gender',\n",
       "    'y': '$hrm_survey_answers.answer_count'}]},\n",
       " 'queries': [{'measures': ['hrm_survey_answers.answer_count'],\n",
       "   'dimensions': ['hrm_survey_answers.gender']}]}"
      ]
     },
     "execution_count": 15,
     "metadata": {},
     "output_type": "execute_result"
    }
   ],
   "source": [
    "chart.serialize()"
   ]
  },
  {
   "cell_type": "markdown",
   "id": "deda1570-c9ab-4d59-8688-4c909293c8ff",
   "metadata": {},
   "source": [
    "also as JSON"
   ]
  },
  {
   "cell_type": "code",
   "execution_count": 17,
   "id": "4e05171e-6389-4a92-abe2-d69ce6b110e6",
   "metadata": {},
   "outputs": [
    {
     "name": "stdout",
     "output_type": "stream",
     "text": [
      "{\n",
      "  \"type\": \"chart\",\n",
      "  \"id\": \"example\",\n",
      "  \"display\": {\n",
      "    \"chart\": {\n",
      "      \"type\": \"column\"\n",
      "    },\n",
      "    \"series\": [\n",
      "      {\n",
      "        \"x\": \"$hrm_survey_answers.gender\",\n",
      "        \"y\": \"$hrm_survey_answers.answer_count\"\n",
      "      }\n",
      "    ]\n",
      "  },\n",
      "  \"queries\": [\n",
      "    {\n",
      "      \"measures\": [\n",
      "        \"hrm_survey_answers.answer_count\"\n",
      "      ],\n",
      "      \"dimensions\": [\n",
      "        \"hrm_survey_answers.gender\"\n",
      "      ]\n",
      "    }\n",
      "  ]\n",
      "}\n"
     ]
    }
   ],
   "source": [
    "print(chart.as_json())"
   ]
  },
  {
   "cell_type": "markdown",
   "id": "57ec5e1a-3971-4478-b0e0-0ccf0a7f3a73",
   "metadata": {},
   "source": [
    "... or YAML."
   ]
  },
  {
   "cell_type": "code",
   "execution_count": 18,
   "id": "26921000-95b8-41f0-b973-a9a27a0e80b7",
   "metadata": {},
   "outputs": [
    {
     "name": "stdout",
     "output_type": "stream",
     "text": [
      "display:\n",
      "  chart:\n",
      "    type: column\n",
      "  series:\n",
      "  - x: $hrm_survey_answers.gender\n",
      "    y: $hrm_survey_answers.answer_count\n",
      "id: example\n",
      "queries:\n",
      "- dimensions:\n",
      "  - hrm_survey_answers.gender\n",
      "  measures:\n",
      "  - hrm_survey_answers.answer_count\n",
      "type: chart\n",
      "\n"
     ]
    }
   ],
   "source": [
    "print(chart.as_yaml())"
   ]
  },
  {
   "cell_type": "markdown",
   "id": "29c47e36-9ec6-40f1-a1d6-7d9382ccb1cf",
   "metadata": {},
   "source": [
    "# Charts can be composed to dashboards"
   ]
  },
  {
   "cell_type": "code",
   "execution_count": 14,
   "id": "7492688f-744a-49fc-a360-cafdb39c844d",
   "metadata": {},
   "outputs": [
    {
     "data": {
      "text/html": [
       "<iframe width=800 height=400 srcdoc=\" &lt;!DOCTYPE html&gt; &lt;html lang=&quot;en&quot;&gt;   &lt;head&gt;     &lt;meta charset=&quot;utf-8&quot; /&gt;     &lt;link href=&quot;https://www.highcharts.com/highslide/highslide.css&quot; rel=&quot;stylesheet&quot; /&gt;     &lt;script type=&quot;text/javascript&quot; src=&quot;https://ajax.googleapis.com/ajax/libs/jquery/1.9.1/jquery.min.js&quot;&gt;&lt;/script&gt;     &lt;script type=&quot;text/javascript&quot; src=&quot;https://code.highcharts.com/6/highcharts.js&quot;&gt;&lt;/script&gt;     &lt;script type=&quot;text/javascript&quot; src=&quot;https://code.highcharts.com/6/highcharts-more.js&quot;&gt;&lt;/script&gt;     &lt;script type=&quot;text/javascript&quot; src=&quot;https://code.highcharts.com/6/modules/heatmap.js&quot;&gt;&lt;/script&gt;     &lt;script type=&quot;text/javascript&quot; src=&quot;https://code.highcharts.com/6/modules/exporting.js&quot;&gt;&lt;/script&gt;   &lt;/head&gt;   &lt;body style=&quot;margin:0;padding:0&quot;&gt;     &lt;div id=&quot;container&quot; style=&quot;&quot;&gt;Loading....&lt;/div&gt;     &lt;script&gt;       $(function(){         console.log(&#x27;AA&#x27;);         Highcharts.setOptions({ &quot;global&quot;: {}, &quot;lang&quot;: {}, });         var options = {&quot;chart&quot;: {&quot;type&quot;: &quot;column&quot;}, &quot;series&quot;: [{&quot;data&quot;: [{&quot;y&quot;: 41907, &quot;x&quot;: 0}, {&quot;y&quot;: 32004, &quot;x&quot;: 1}, {&quot;y&quot;: 355, &quot;x&quot;: 2}, {&quot;y&quot;: 115, &quot;x&quot;: null}]}], &quot;id&quot;: &quot;example&quot;, &quot;type&quot;: &quot;chart&quot;, &quot;xAxis&quot;: {&quot;categories&quot;: [&quot;Weiblich&quot;, &quot;M\\u00e4nnlich&quot;, &quot;Divers&quot;]}};         var chart = new Highcharts.Chart(&#x27;container&#x27;, options);        });     &lt;/script&gt;   &lt;/body&gt; &lt;/html&gt; \"></iframe>\n",
       "<iframe width=800 height=400 srcdoc=\" &lt;!DOCTYPE html&gt; &lt;html lang=&quot;en&quot;&gt;   &lt;head&gt;     &lt;meta charset=&quot;utf-8&quot; /&gt;     &lt;link href=&quot;https://www.highcharts.com/highslide/highslide.css&quot; rel=&quot;stylesheet&quot; /&gt;     &lt;script type=&quot;text/javascript&quot; src=&quot;https://ajax.googleapis.com/ajax/libs/jquery/1.9.1/jquery.min.js&quot;&gt;&lt;/script&gt;     &lt;script type=&quot;text/javascript&quot; src=&quot;https://code.highcharts.com/6/highcharts.js&quot;&gt;&lt;/script&gt;     &lt;script type=&quot;text/javascript&quot; src=&quot;https://code.highcharts.com/6/highcharts-more.js&quot;&gt;&lt;/script&gt;     &lt;script type=&quot;text/javascript&quot; src=&quot;https://code.highcharts.com/6/modules/heatmap.js&quot;&gt;&lt;/script&gt;     &lt;script type=&quot;text/javascript&quot; src=&quot;https://code.highcharts.com/6/modules/exporting.js&quot;&gt;&lt;/script&gt;   &lt;/head&gt;   &lt;body style=&quot;margin:0;padding:0&quot;&gt;     &lt;div id=&quot;container&quot; style=&quot;&quot;&gt;Loading....&lt;/div&gt;     &lt;script&gt;       $(function(){         console.log(&#x27;AA&#x27;);         Highcharts.setOptions({ &quot;global&quot;: {}, &quot;lang&quot;: {}, });         var options = {&quot;chart&quot;: {&quot;type&quot;: &quot;column&quot;}, &quot;series&quot;: [{&quot;data&quot;: [{&quot;y&quot;: 41907, &quot;x&quot;: 0}, {&quot;y&quot;: 32004, &quot;x&quot;: 1}, {&quot;y&quot;: 355, &quot;x&quot;: 2}, {&quot;y&quot;: 115, &quot;x&quot;: null}]}], &quot;id&quot;: &quot;example&quot;, &quot;type&quot;: &quot;chart&quot;, &quot;xAxis&quot;: {&quot;categories&quot;: [&quot;Weiblich&quot;, &quot;M\\u00e4nnlich&quot;, &quot;Divers&quot;]}};         var chart = new Highcharts.Chart(&#x27;container&#x27;, options);        });     &lt;/script&gt;   &lt;/body&gt; &lt;/html&gt; \"></iframe>"
      ],
      "text/plain": [
       "<IPython.core.display.HTML object>"
      ]
     },
     "execution_count": 14,
     "metadata": {},
     "output_type": "execute_result"
    }
   ],
   "source": [
    "dashboard = chart + chart\n",
    "dashboard.show()"
   ]
  },
  {
   "cell_type": "markdown",
   "id": "4b2771d1-83d4-4a19-9053-24085e035dbb",
   "metadata": {},
   "source": [
    "Dashboard can also be serialized (and formatted as JSON or YAML)."
   ]
  },
  {
   "cell_type": "code",
   "execution_count": 19,
   "id": "dec04d11-7cbc-4873-83e4-bde7028f6a7a",
   "metadata": {},
   "outputs": [
    {
     "data": {
      "text/plain": [
       "{'parameters': [],\n",
       " 'components': [{'type': 'chart',\n",
       "   'id': 'example',\n",
       "   'display': {'chart': {'type': 'column'},\n",
       "    'series': [{'x': '$hrm_survey_answers.gender',\n",
       "      'y': '$hrm_survey_answers.answer_count'}]},\n",
       "   'queries': [{'measures': ['hrm_survey_answers.answer_count'],\n",
       "     'dimensions': ['hrm_survey_answers.gender']}]},\n",
       "  {'type': 'chart',\n",
       "   'id': 'example',\n",
       "   'display': {'chart': {'type': 'column'},\n",
       "    'series': [{'x': '$hrm_survey_answers.gender',\n",
       "      'y': '$hrm_survey_answers.answer_count'}]},\n",
       "   'queries': [{'measures': ['hrm_survey_answers.answer_count'],\n",
       "     'dimensions': ['hrm_survey_answers.gender']}]}]}"
      ]
     },
     "execution_count": 19,
     "metadata": {},
     "output_type": "execute_result"
    }
   ],
   "source": [
    "dashboard.serialize()"
   ]
  }
 ],
 "metadata": {
  "kernelspec": {
   "display_name": "Python 3 (ipykernel)",
   "language": "python",
   "name": "python3"
  },
  "language_info": {
   "codemirror_mode": {
    "name": "ipython",
    "version": 3
   },
   "file_extension": ".py",
   "mimetype": "text/x-python",
   "name": "python",
   "nbconvert_exporter": "python",
   "pygments_lexer": "ipython3",
   "version": "3.10.8"
  }
 },
 "nbformat": 4,
 "nbformat_minor": 5
}
