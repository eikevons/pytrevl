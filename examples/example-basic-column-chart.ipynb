{
 "cells": [
  {
   "cell_type": "markdown",
   "id": "532d2c1b-91c3-4acb-9d4e-a71b11e3d936",
   "metadata": {},
   "source": [
    "# Overview\n",
    "\n",
    "A simple notebook showing the basic functionality of `pytrevl`.\n",
    "\n",
    "## Instructions\n",
    "\n",
    "1. Replace `<REDACTED>` with the true password for the `x-middle` API.\n",
    "2. Run all cells."
   ]
  },
  {
   "cell_type": "code",
   "execution_count": 1,
   "id": "18afe761-bed7-47f1-8785-5e76d39c3c23",
   "metadata": {},
   "outputs": [],
   "source": [
    "import sys\n",
    "sys.path.append('..')"
   ]
  },
  {
   "cell_type": "code",
   "execution_count": 2,
   "id": "f4bad4ea-b9bb-4446-9b10-b3e858b65e68",
   "metadata": {},
   "outputs": [],
   "source": [
    "import os\n",
    "os.environ['X_MIDDLE_BASEURL'] = 'https://x-middle.herokuapp.com/api'\n",
    "os.environ['X_MIDDLE_PASSWORD'] = '<REDACTED>' # <-- PUT here the real password"
   ]
  },
  {
   "cell_type": "markdown",
   "id": "218fd96a-ad56-4095-a096-425f54e1a706",
   "metadata": {},
   "source": [
    "# Check connectivity to `x-middle` API"
   ]
  },
  {
   "cell_type": "code",
   "execution_count": 3,
   "id": "e3a61836-5798-4fe6-bd93-37ddb8c939a6",
   "metadata": {},
   "outputs": [],
   "source": [
    "import pytrevl.api"
   ]
  },
  {
   "cell_type": "code",
   "execution_count": 4,
   "id": "e563e2f2-271a-4c87-bf44-220985e73eef",
   "metadata": {},
   "outputs": [
    {
     "data": {
      "text/plain": [
       "<pytrevl.api.XMiddleService at 0x7fa51c2e0580>"
      ]
     },
     "execution_count": 4,
     "metadata": {},
     "output_type": "execute_result"
    }
   ],
   "source": [
    "pytrevl.api.xmiddle()"
   ]
  },
  {
   "cell_type": "code",
   "execution_count": 5,
   "id": "8e828cff-7b52-41a6-a527-90b22aacd050",
   "metadata": {},
   "outputs": [
    {
     "data": {
      "text/plain": [
       "{'chartService': {'exists': True},\n",
       " 'cubeService': {'exists': True, 'status': {'cubeApi': 'connected'}},\n",
       " 'dashboardService': {'exists': True}}"
      ]
     },
     "execution_count": 5,
     "metadata": {},
     "output_type": "execute_result"
    }
   ],
   "source": [
    "pytrevl.api.xmiddle().status()"
   ]
  },
  {
   "cell_type": "markdown",
   "id": "cc08677a-3938-4319-a230-27e4e11e8cc4",
   "metadata": {},
   "source": [
    "# Build a simple chart\n",
    "\n",
    "The chart is taken from https://github.com/trendence/trevl-lang/blob/main/examples/official_library/01_basic_column_chart.yaml"
   ]
  },
  {
   "cell_type": "code",
   "execution_count": 6,
   "id": "7c5eef1d-69e0-4256-bddc-3188f986d06d",
   "metadata": {},
   "outputs": [],
   "source": [
    "from pytrevl import ColumnChart, CubeQuery"
   ]
  },
  {
   "cell_type": "code",
   "execution_count": 7,
   "id": "d17fbd38-b380-46d6-9cac-f6c967f60281",
   "metadata": {},
   "outputs": [],
   "source": [
    "query = CubeQuery(\n",
    "    'hrm_survey_answers',\n",
    "    ['answer_count'],\n",
    "    ['gender'],\n",
    ")\n",
    "chart = ColumnChart(\n",
    "    query,\n",
    "    id='example',\n",
    "    x=query['gender'],\n",
    "    y=query['answer_count'],\n",
    ")"
   ]
  },
  {
   "cell_type": "markdown",
   "id": "dfa9c3b5-cd86-48b6-92b2-5f192883d9a4",
   "metadata": {},
   "source": [
    "View the respective TREVL document encoded as YAML.\n",
    "Use `.as_json()` for JSON."
   ]
  },
  {
   "cell_type": "code",
   "execution_count": 15,
   "id": "9753dd12-449a-46c3-8f94-e388fe7174ae",
   "metadata": {},
   "outputs": [
    {
     "name": "stdout",
     "output_type": "stream",
     "text": [
      "display:\n",
      "  chart:\n",
      "    type: column\n",
      "  series:\n",
      "  - x: $hrm_survey_answers.gender\n",
      "    y: $hrm_survey_answers.answer_count\n",
      "id: example\n",
      "queries:\n",
      "- dimensions:\n",
      "  - hrm_survey_answers.gender\n",
      "  measures:\n",
      "  - hrm_survey_answers.answer_count\n",
      "type: chart\n",
      "\n"
     ]
    }
   ],
   "source": [
    "print(chart.as_yaml())"
   ]
  },
  {
   "cell_type": "markdown",
   "id": "707178e2-f1d5-431a-b21e-d03e816ac41f",
   "metadata": {},
   "source": [
    "Show a single chart."
   ]
  },
  {
   "cell_type": "code",
   "execution_count": 9,
   "id": "d0914f1b-22c4-4ec4-8ef3-c4ddb7cf877c",
   "metadata": {},
   "outputs": [
    {
     "name": "stderr",
     "output_type": "stream",
     "text": [
      "/opt/conda/lib/python3.9/site-packages/IPython/core/display.py:414: UserWarning: Consider using IPython.display.IFrame instead\n",
      "  warnings.warn(\"Consider using IPython.display.IFrame instead\")\n"
     ]
    },
    {
     "data": {
      "text/html": [
       "<iframe width=800 height=400 srcdoc=\" &lt;!DOCTYPE html&gt; &lt;html lang=&quot;en&quot;&gt;   &lt;head&gt;     &lt;meta charset=&quot;utf-8&quot; /&gt;     &lt;link href=&quot;https://www.highcharts.com/highslide/highslide.css&quot; rel=&quot;stylesheet&quot; /&gt;     &lt;script type=&quot;text/javascript&quot; src=&quot;https://ajax.googleapis.com/ajax/libs/jquery/1.9.1/jquery.min.js&quot;&gt;&lt;/script&gt;     &lt;script type=&quot;text/javascript&quot; src=&quot;https://code.highcharts.com/6/highcharts.js&quot;&gt;&lt;/script&gt;     &lt;script type=&quot;text/javascript&quot; src=&quot;https://code.highcharts.com/6/highcharts-more.js&quot;&gt;&lt;/script&gt;     &lt;script type=&quot;text/javascript&quot; src=&quot;https://code.highcharts.com/6/modules/heatmap.js&quot;&gt;&lt;/script&gt;     &lt;script type=&quot;text/javascript&quot; src=&quot;https://code.highcharts.com/6/modules/exporting.js&quot;&gt;&lt;/script&gt;   &lt;/head&gt;   &lt;body style=&quot;margin:0;padding:0&quot;&gt;     &lt;div id=&quot;container&quot; style=&quot;&quot;&gt;Loading....&lt;/div&gt;     &lt;script&gt;       $(function(){         console.log(&#x27;AA&#x27;);         Highcharts.setOptions({ &quot;global&quot;: {}, &quot;lang&quot;: {}, });         var options = {&quot;chart&quot;: {&quot;type&quot;: &quot;column&quot;}, &quot;series&quot;: [{&quot;data&quot;: [{&quot;y&quot;: 41907, &quot;x&quot;: 0}, {&quot;y&quot;: 32004, &quot;x&quot;: 1}, {&quot;y&quot;: 355, &quot;x&quot;: 2}, {&quot;y&quot;: 115, &quot;x&quot;: null}]}], &quot;id&quot;: &quot;example&quot;, &quot;type&quot;: &quot;chart&quot;, &quot;xAxis&quot;: {&quot;categories&quot;: [&quot;Weiblich&quot;, &quot;M\\u00e4nnlich&quot;, &quot;Divers&quot;]}};         var chart = new Highcharts.Chart(&#x27;container&#x27;, options);        });     &lt;/script&gt;   &lt;/body&gt; &lt;/html&gt; \"></iframe>"
      ],
      "text/plain": [
       "<IPython.core.display.HTML object>"
      ]
     },
     "execution_count": 9,
     "metadata": {},
     "output_type": "execute_result"
    }
   ],
   "source": [
    "chart.show()"
   ]
  },
  {
   "cell_type": "markdown",
   "id": "aa88662b-961a-49ae-aca7-4c506c8504e7",
   "metadata": {},
   "source": [
    "Showing a dashboard with multiple charts.\n",
    "(Stupid example with dashboard containing same chart 2 times)"
   ]
  },
  {
   "cell_type": "code",
   "execution_count": 16,
   "id": "197f1a12-415a-413e-9b97-6badd6a46f65",
   "metadata": {},
   "outputs": [
    {
     "data": {
      "text/html": [
       "<iframe width=800 height=400 srcdoc=\" &lt;!DOCTYPE html&gt; &lt;html lang=&quot;en&quot;&gt;   &lt;head&gt;     &lt;meta charset=&quot;utf-8&quot; /&gt;     &lt;link href=&quot;https://www.highcharts.com/highslide/highslide.css&quot; rel=&quot;stylesheet&quot; /&gt;     &lt;script type=&quot;text/javascript&quot; src=&quot;https://ajax.googleapis.com/ajax/libs/jquery/1.9.1/jquery.min.js&quot;&gt;&lt;/script&gt;     &lt;script type=&quot;text/javascript&quot; src=&quot;https://code.highcharts.com/6/highcharts.js&quot;&gt;&lt;/script&gt;     &lt;script type=&quot;text/javascript&quot; src=&quot;https://code.highcharts.com/6/highcharts-more.js&quot;&gt;&lt;/script&gt;     &lt;script type=&quot;text/javascript&quot; src=&quot;https://code.highcharts.com/6/modules/heatmap.js&quot;&gt;&lt;/script&gt;     &lt;script type=&quot;text/javascript&quot; src=&quot;https://code.highcharts.com/6/modules/exporting.js&quot;&gt;&lt;/script&gt;   &lt;/head&gt;   &lt;body style=&quot;margin:0;padding:0&quot;&gt;     &lt;div id=&quot;container&quot; style=&quot;&quot;&gt;Loading....&lt;/div&gt;     &lt;script&gt;       $(function(){         console.log(&#x27;AA&#x27;);         Highcharts.setOptions({ &quot;global&quot;: {}, &quot;lang&quot;: {}, });         var options = {&quot;chart&quot;: {&quot;type&quot;: &quot;column&quot;}, &quot;series&quot;: [{&quot;data&quot;: [{&quot;y&quot;: 41907, &quot;x&quot;: 0}, {&quot;y&quot;: 32004, &quot;x&quot;: 1}, {&quot;y&quot;: 355, &quot;x&quot;: 2}, {&quot;y&quot;: 115, &quot;x&quot;: null}]}], &quot;id&quot;: &quot;example&quot;, &quot;type&quot;: &quot;chart&quot;, &quot;xAxis&quot;: {&quot;categories&quot;: [&quot;Weiblich&quot;, &quot;M\\u00e4nnlich&quot;, &quot;Divers&quot;]}};         var chart = new Highcharts.Chart(&#x27;container&#x27;, options);        });     &lt;/script&gt;   &lt;/body&gt; &lt;/html&gt; \"></iframe>\n",
       "<iframe width=800 height=400 srcdoc=\" &lt;!DOCTYPE html&gt; &lt;html lang=&quot;en&quot;&gt;   &lt;head&gt;     &lt;meta charset=&quot;utf-8&quot; /&gt;     &lt;link href=&quot;https://www.highcharts.com/highslide/highslide.css&quot; rel=&quot;stylesheet&quot; /&gt;     &lt;script type=&quot;text/javascript&quot; src=&quot;https://ajax.googleapis.com/ajax/libs/jquery/1.9.1/jquery.min.js&quot;&gt;&lt;/script&gt;     &lt;script type=&quot;text/javascript&quot; src=&quot;https://code.highcharts.com/6/highcharts.js&quot;&gt;&lt;/script&gt;     &lt;script type=&quot;text/javascript&quot; src=&quot;https://code.highcharts.com/6/highcharts-more.js&quot;&gt;&lt;/script&gt;     &lt;script type=&quot;text/javascript&quot; src=&quot;https://code.highcharts.com/6/modules/heatmap.js&quot;&gt;&lt;/script&gt;     &lt;script type=&quot;text/javascript&quot; src=&quot;https://code.highcharts.com/6/modules/exporting.js&quot;&gt;&lt;/script&gt;   &lt;/head&gt;   &lt;body style=&quot;margin:0;padding:0&quot;&gt;     &lt;div id=&quot;container&quot; style=&quot;&quot;&gt;Loading....&lt;/div&gt;     &lt;script&gt;       $(function(){         console.log(&#x27;AA&#x27;);         Highcharts.setOptions({ &quot;global&quot;: {}, &quot;lang&quot;: {}, });         var options = {&quot;chart&quot;: {&quot;type&quot;: &quot;column&quot;}, &quot;series&quot;: [{&quot;data&quot;: [{&quot;y&quot;: 41907, &quot;x&quot;: 0}, {&quot;y&quot;: 32004, &quot;x&quot;: 1}, {&quot;y&quot;: 355, &quot;x&quot;: 2}, {&quot;y&quot;: 115, &quot;x&quot;: null}]}], &quot;id&quot;: &quot;example&quot;, &quot;type&quot;: &quot;chart&quot;, &quot;xAxis&quot;: {&quot;categories&quot;: [&quot;Weiblich&quot;, &quot;M\\u00e4nnlich&quot;, &quot;Divers&quot;]}};         var chart = new Highcharts.Chart(&#x27;container&#x27;, options);        });     &lt;/script&gt;   &lt;/body&gt; &lt;/html&gt; \"></iframe>"
      ],
      "text/plain": [
       "<IPython.core.display.HTML object>"
      ]
     },
     "execution_count": 16,
     "metadata": {},
     "output_type": "execute_result"
    }
   ],
   "source": [
    "dashboard = (chart + chart)\n",
    "dashboard.show()"
   ]
  }
 ],
 "metadata": {
  "kernelspec": {
   "display_name": "Python 3 (ipykernel)",
   "language": "python",
   "name": "python3"
  },
  "language_info": {
   "codemirror_mode": {
    "name": "ipython",
    "version": 3
   },
   "file_extension": ".py",
   "mimetype": "text/x-python",
   "name": "python",
   "nbconvert_exporter": "python",
   "pygments_lexer": "ipython3",
   "version": "3.9.7"
  }
 },
 "nbformat": 4,
 "nbformat_minor": 5
}
