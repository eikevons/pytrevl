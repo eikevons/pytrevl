{
 "cells": [
  {
   "cell_type": "code",
   "execution_count": 1,
   "metadata": {},
   "outputs": [],
   "source": [
    "import sys\n",
    "\n",
    "sys.path.append('../')\n",
    "\n",
    "import pytrevl as pyt"
   ]
  },
  {
   "cell_type": "markdown",
   "metadata": {},
   "source": [
    "### Donut Chart - Test"
   ]
  },
  {
   "cell_type": "code",
   "execution_count": 2,
   "metadata": {},
   "outputs": [],
   "source": [
    "cube = pyt.Cube(name=\"test_hrm\")\n",
    "a_1_style = pyt.Style(title=\"Gender allocation\", innerSize=\"50%\")\n",
    "a_1_filter = pyt.Filter(variable=\"question_key\", operator=\"equals\", value=\"A-1\")\n",
    "\n",
    "a_1_donut = pyt.DonutChart(\n",
    "    id = \"A-1\",\n",
    "    cube = cube,\n",
    "    dimension = \"option_text\",\n",
    "    measure = \"answer_count\",\n",
    "    style = a_1_style,\n",
    "    filters = [\n",
    "        a_1_filter\n",
    "    ]\n",
    ")"
   ]
  },
  {
   "cell_type": "code",
   "execution_count": 3,
   "metadata": {},
   "outputs": [
    {
     "data": {
      "text/html": [
       "<p><p><iframe width=800 height=400 srcdoc=\" &lt;!DOCTYPE html&gt; &lt;html lang=&quot;en&quot;&gt;   &lt;head&gt;     &lt;meta charset=&quot;utf-8&quot; /&gt;     &lt;link href=&quot;https://www.highcharts.com/highslide/highslide.css&quot; rel=&quot;stylesheet&quot; /&gt;     &lt;script type=&quot;text/javascript&quot; src=&quot;https://ajax.googleapis.com/ajax/libs/jquery/1.9.1/jquery.min.js&quot;&gt;&lt;/script&gt;     &lt;script type=&quot;text/javascript&quot; src=&quot;https://code.highcharts.com/6/highcharts.js&quot;&gt;&lt;/script&gt;     &lt;script type=&quot;text/javascript&quot; src=&quot;https://code.highcharts.com/6/highcharts-more.js&quot;&gt;&lt;/script&gt;     &lt;script type=&quot;text/javascript&quot; src=&quot;https://code.highcharts.com/6/modules/heatmap.js&quot;&gt;&lt;/script&gt;     &lt;script type=&quot;text/javascript&quot; src=&quot;https://code.highcharts.com/6/modules/exporting.js&quot;&gt;&lt;/script&gt;   &lt;/head&gt;   &lt;body style=&quot;margin:0;padding:0&quot;&gt;     &lt;div id=&quot;container&quot; style=&quot;&quot;&gt;Loading....&lt;/div&gt;     &lt;script&gt;     console.log(&#x27;A&#x27;);       $(function(){         console.log(&#x27;AA&#x27;);         Highcharts.setOptions({ &quot;global&quot;: {}, &quot;lang&quot;: {}, });         var options = {&quot;chart&quot;: {&quot;type&quot;: &quot;pie&quot;}, &quot;title&quot;: {&quot;text&quot;: &quot;Gender allocation&quot;}, &quot;series&quot;: [{&quot;data&quot;: [{&quot;name&quot;: &quot;Weiblich&quot;, &quot;y&quot;: 26609}, {&quot;name&quot;: &quot;M\\u00e4nnlich&quot;, &quot;y&quot;: 14279}, {&quot;name&quot;: &quot;Divers&quot;, &quot;y&quot;: 1275}], &quot;innerSize&quot;: &quot;50%&quot;}], &quot;id&quot;: &quot;A-1&quot;, &quot;type&quot;: &quot;chart&quot;};         var chart = new Highcharts.Chart(&#x27;container&#x27;, options);         console.log(&#x27;B&#x27;);        });     console.log(&#x27;BB&#x27;);     &lt;/script&gt;   &lt;/body&gt; &lt;/html&gt;     \"></iframe><p><p>"
      ],
      "text/plain": [
       "<pytrevl.render.IpythonHC at 0x10f37ba00>"
      ]
     },
     "execution_count": 3,
     "metadata": {},
     "output_type": "execute_result"
    }
   ],
   "source": [
    "a_1_donut.show()"
   ]
  },
  {
   "cell_type": "markdown",
   "metadata": {},
   "source": [
    "### Dashboard - Test"
   ]
  },
  {
   "cell_type": "code",
   "execution_count": 4,
   "metadata": {},
   "outputs": [],
   "source": [
    "test_dashboard = pyt.Dashboard(\"Just a test dashboard\")"
   ]
  },
  {
   "cell_type": "code",
   "execution_count": 5,
   "metadata": {},
   "outputs": [
    {
     "data": {
      "text/plain": [
       "'Just a test dashboard'"
      ]
     },
     "execution_count": 5,
     "metadata": {},
     "output_type": "execute_result"
    }
   ],
   "source": [
    "test_dashboard.description"
   ]
  },
  {
   "cell_type": "code",
   "execution_count": 6,
   "metadata": {},
   "outputs": [],
   "source": [
    "bb_26_style = pyt.Style(title = \"Dauer Erstkontakt bis Vertragsangebot\")\n",
    "bb_26_question_key = pyt.Filter(variable = \"question_key\", operator = \"equals\", value = \"BB-26\")\n",
    "survey_id_220006 = pyt.Filter(variable = \"survey_id\", operator = \"equals\", value = \"220006\")\n",
    "\n",
    "bb_26_pie_chart = pyt.PieChart(\n",
    "    id = \"BB-26\",\n",
    "    cube = cube,\n",
    "    dimension = \"option_text\",\n",
    "    measure = \"answer_count\",\n",
    "    style = bb_26_style,\n",
    "    filters = [\n",
    "        bb_26_question_key,\n",
    "        survey_id_220006\n",
    "    ]\n",
    ")"
   ]
  },
  {
   "cell_type": "code",
   "execution_count": 7,
   "metadata": {},
   "outputs": [
    {
     "data": {
      "text/html": [
       "<div>\n",
       "<style scoped>\n",
       "    .dataframe tbody tr th:only-of-type {\n",
       "        vertical-align: middle;\n",
       "    }\n",
       "\n",
       "    .dataframe tbody tr th {\n",
       "        vertical-align: top;\n",
       "    }\n",
       "\n",
       "    .dataframe thead th {\n",
       "        text-align: right;\n",
       "    }\n",
       "</style>\n",
       "<table border=\"1\" class=\"dataframe\">\n",
       "  <thead>\n",
       "    <tr style=\"text-align: right;\">\n",
       "      <th></th>\n",
       "      <th>Y</th>\n",
       "    </tr>\n",
       "    <tr>\n",
       "      <th>X</th>\n",
       "      <th></th>\n",
       "    </tr>\n",
       "  </thead>\n",
       "  <tbody>\n",
       "    <tr>\n",
       "      <th>bis zu 2 Wochen</th>\n",
       "      <td>345</td>\n",
       "    </tr>\n",
       "    <tr>\n",
       "      <th>bis zu 1 Monat</th>\n",
       "      <td>257</td>\n",
       "    </tr>\n",
       "    <tr>\n",
       "      <th>bis zu 3 Wochen</th>\n",
       "      <td>249</td>\n",
       "    </tr>\n",
       "    <tr>\n",
       "      <th>bis zu 1 Woche</th>\n",
       "      <td>232</td>\n",
       "    </tr>\n",
       "    <tr>\n",
       "      <th>bis zu 2 Monaten</th>\n",
       "      <td>90</td>\n",
       "    </tr>\n",
       "    <tr>\n",
       "      <th>bis zu 3 Tage</th>\n",
       "      <td>74</td>\n",
       "    </tr>\n",
       "    <tr>\n",
       "      <th>bis zu 3 Monaten und länger</th>\n",
       "      <td>34</td>\n",
       "    </tr>\n",
       "  </tbody>\n",
       "</table>\n",
       "</div>"
      ],
      "text/plain": [
       "                               Y\n",
       "X                               \n",
       "bis zu 2 Wochen              345\n",
       "bis zu 1 Monat               257\n",
       "bis zu 3 Wochen              249\n",
       "bis zu 1 Woche               232\n",
       "bis zu 2 Monaten              90\n",
       "bis zu 3 Tage                 74\n",
       "bis zu 3 Monaten und länger   34"
      ]
     },
     "execution_count": 7,
     "metadata": {},
     "output_type": "execute_result"
    }
   ],
   "source": [
    "bb_26_pie_chart.get_data()"
   ]
  },
  {
   "cell_type": "code",
   "execution_count": 8,
   "metadata": {},
   "outputs": [
    {
     "data": {
      "text/html": [
       "<p><p><iframe width=800 height=400 srcdoc=\" &lt;!DOCTYPE html&gt; &lt;html lang=&quot;en&quot;&gt;   &lt;head&gt;     &lt;meta charset=&quot;utf-8&quot; /&gt;     &lt;link href=&quot;https://www.highcharts.com/highslide/highslide.css&quot; rel=&quot;stylesheet&quot; /&gt;     &lt;script type=&quot;text/javascript&quot; src=&quot;https://ajax.googleapis.com/ajax/libs/jquery/1.9.1/jquery.min.js&quot;&gt;&lt;/script&gt;     &lt;script type=&quot;text/javascript&quot; src=&quot;https://code.highcharts.com/6/highcharts.js&quot;&gt;&lt;/script&gt;     &lt;script type=&quot;text/javascript&quot; src=&quot;https://code.highcharts.com/6/highcharts-more.js&quot;&gt;&lt;/script&gt;     &lt;script type=&quot;text/javascript&quot; src=&quot;https://code.highcharts.com/6/modules/heatmap.js&quot;&gt;&lt;/script&gt;     &lt;script type=&quot;text/javascript&quot; src=&quot;https://code.highcharts.com/6/modules/exporting.js&quot;&gt;&lt;/script&gt;   &lt;/head&gt;   &lt;body style=&quot;margin:0;padding:0&quot;&gt;     &lt;div id=&quot;container&quot; style=&quot;&quot;&gt;Loading....&lt;/div&gt;     &lt;script&gt;     console.log(&#x27;A&#x27;);       $(function(){         console.log(&#x27;AA&#x27;);         Highcharts.setOptions({ &quot;global&quot;: {}, &quot;lang&quot;: {}, });         var options = {&quot;chart&quot;: {&quot;type&quot;: &quot;pie&quot;}, &quot;title&quot;: {&quot;text&quot;: &quot;Dauer Erstkontakt bis Vertragsangebot&quot;}, &quot;series&quot;: [{&quot;data&quot;: [{&quot;name&quot;: &quot;bis zu 2 Wochen&quot;, &quot;y&quot;: 345}, {&quot;name&quot;: &quot;bis zu 1 Monat&quot;, &quot;y&quot;: 257}, {&quot;name&quot;: &quot;bis zu 3 Wochen&quot;, &quot;y&quot;: 249}, {&quot;name&quot;: &quot;bis zu 1 Woche&quot;, &quot;y&quot;: 232}, {&quot;name&quot;: &quot;bis zu 2 Monaten&quot;, &quot;y&quot;: 90}, {&quot;name&quot;: &quot;bis zu 3 Tage&quot;, &quot;y&quot;: 74}, {&quot;name&quot;: &quot;bis zu 3 Monaten und l\\u00e4nger&quot;, &quot;y&quot;: 34}]}], &quot;id&quot;: &quot;BB-26&quot;, &quot;type&quot;: &quot;chart&quot;};         var chart = new Highcharts.Chart(&#x27;container&#x27;, options);         console.log(&#x27;B&#x27;);        });     console.log(&#x27;BB&#x27;);     &lt;/script&gt;   &lt;/body&gt; &lt;/html&gt;     \"></iframe><p><p>"
      ],
      "text/plain": [
       "<pytrevl.render.IpythonHC at 0x10f370790>"
      ]
     },
     "execution_count": 8,
     "metadata": {},
     "output_type": "execute_result"
    }
   ],
   "source": [
    "bb_26_pie_chart.show()"
   ]
  },
  {
   "cell_type": "code",
   "execution_count": 9,
   "metadata": {},
   "outputs": [
    {
     "data": {
      "text/plain": [
       "{'description': 'Placeholder',\n",
       " 'parameters': [],\n",
       " 'components': [{'id': 'BB-26',\n",
       "   'type': 'chart',\n",
       "   'queries': [{'measures': ['test_hrm.answer_count'],\n",
       "     'dimensions': ['test_hrm.option_text'],\n",
       "     'filters': [{'member': 'test_hrm.question_key',\n",
       "       'operator': 'equals',\n",
       "       'values': ['BB-26']},\n",
       "      {'member': 'test_hrm.survey_id',\n",
       "       'operator': 'equals',\n",
       "       'values': ['220006']}]}],\n",
       "   'display': {'chart': {'type': 'pie'},\n",
       "    'title': {'text': 'Dauer Erstkontakt bis Vertragsangebot'},\n",
       "    'series': [{'name': '$test_hrm.option_text',\n",
       "      'x': '$test_hrm.option_text',\n",
       "      'y': '$test_hrm.answer_count'}]}}]}"
      ]
     },
     "execution_count": 9,
     "metadata": {},
     "output_type": "execute_result"
    }
   ],
   "source": [
    "bb_26_pie_chart.get_json()"
   ]
  },
  {
   "cell_type": "code",
   "execution_count": 10,
   "metadata": {},
   "outputs": [
    {
     "name": "stdout",
     "output_type": "stream",
     "text": [
      "components:\n",
      "- display:\n",
      "    chart:\n",
      "      type: pie\n",
      "    series:\n",
      "    - name: $test_hrm.option_text\n",
      "      x: $test_hrm.option_text\n",
      "      y: $test_hrm.answer_count\n",
      "    title:\n",
      "      text: Dauer Erstkontakt bis Vertragsangebot\n",
      "  id: BB-26\n",
      "  queries:\n",
      "  - dimensions:\n",
      "    - test_hrm.option_text\n",
      "    filters:\n",
      "    - member: test_hrm.question_key\n",
      "      operator: equals\n",
      "      values:\n",
      "      - BB-26\n",
      "    - member: test_hrm.survey_id\n",
      "      operator: equals\n",
      "      values:\n",
      "      - '220006'\n",
      "    measures:\n",
      "    - test_hrm.answer_count\n",
      "  type: chart\n",
      "description: Placeholder\n",
      "parameters: []\n",
      "\n"
     ]
    }
   ],
   "source": [
    "bb_26_pie_chart.get_yaml()"
   ]
  },
  {
   "cell_type": "code",
   "execution_count": 11,
   "metadata": {},
   "outputs": [],
   "source": [
    "gh_4_style = pyt.Style(title = \"Ghosting Gründe\")\n",
    "gh_4_question_key = pyt.Filter(variable = \"question_key\", operator = \"equals\", value = \"GH-4\")\n",
    "\n",
    "gh_4_bar_chart = pyt.BarChart(\n",
    "    id = \"GH-4\",\n",
    "    cube = cube,\n",
    "    measure = \"answer_count\",\n",
    "    dimension = \"option_text\",\n",
    "    style = gh_4_style,\n",
    "    filters = [\n",
    "        gh_4_question_key\n",
    "    ]\n",
    ")"
   ]
  },
  {
   "cell_type": "code",
   "execution_count": 12,
   "metadata": {},
   "outputs": [
    {
     "data": {
      "text/html": [
       "<p><p><iframe width=800 height=400 srcdoc=\" &lt;!DOCTYPE html&gt; &lt;html lang=&quot;en&quot;&gt;   &lt;head&gt;     &lt;meta charset=&quot;utf-8&quot; /&gt;     &lt;link href=&quot;https://www.highcharts.com/highslide/highslide.css&quot; rel=&quot;stylesheet&quot; /&gt;     &lt;script type=&quot;text/javascript&quot; src=&quot;https://ajax.googleapis.com/ajax/libs/jquery/1.9.1/jquery.min.js&quot;&gt;&lt;/script&gt;     &lt;script type=&quot;text/javascript&quot; src=&quot;https://code.highcharts.com/6/highcharts.js&quot;&gt;&lt;/script&gt;     &lt;script type=&quot;text/javascript&quot; src=&quot;https://code.highcharts.com/6/highcharts-more.js&quot;&gt;&lt;/script&gt;     &lt;script type=&quot;text/javascript&quot; src=&quot;https://code.highcharts.com/6/modules/heatmap.js&quot;&gt;&lt;/script&gt;     &lt;script type=&quot;text/javascript&quot; src=&quot;https://code.highcharts.com/6/modules/exporting.js&quot;&gt;&lt;/script&gt;   &lt;/head&gt;   &lt;body style=&quot;margin:0;padding:0&quot;&gt;     &lt;div id=&quot;container&quot; style=&quot;&quot;&gt;Loading....&lt;/div&gt;     &lt;script&gt;     console.log(&#x27;A&#x27;);       $(function(){         console.log(&#x27;AA&#x27;);         Highcharts.setOptions({ &quot;global&quot;: {}, &quot;lang&quot;: {}, });         var options = {&quot;chart&quot;: {&quot;type&quot;: &quot;column&quot;}, &quot;title&quot;: {&quot;text&quot;: &quot;Ghosting Gr\\u00fcnde&quot;}, &quot;series&quot;: [{&quot;name&quot;: &quot;$test_hrm.option_text&quot;, &quot;data&quot;: [[0, 44], [1, 37], [2, 34], [3, 29], [4, 25], [5, 24], [6, 22], [7, 18], [8, 16], [9, 13], [10, 6]]}], &quot;id&quot;: &quot;GH-4&quot;, &quot;type&quot;: &quot;chart&quot;, &quot;xAxis&quot;: {&quot;categories&quot;: [&quot;Schlechte Kommunikation&quot;, &quot;Schlechter Gesamteindruck des Unternehmens&quot;, &quot;Schlechter Eindruck des Ansprechpartners&quot;, &quot;Ich hatte ein besseres Angebot eines anderes Arbeitgebers.&quot;, &quot;Unangenehmes Arbeitsklima&quot;, &quot;Fehlende R\\u00fcckmeldung&quot;, &quot;Zu hohe Arbeitsbelastung&quot;, &quot;Mangelnde Einarbeitung&quot;, &quot;Versagens\\u00e4ngste&quot;, &quot;Fehlende Eingangsbest\\u00e4tigung&quot;, &quot;Sonstige&quot;]}};         var chart = new Highcharts.Chart(&#x27;container&#x27;, options);         console.log(&#x27;B&#x27;);        });     console.log(&#x27;BB&#x27;);     &lt;/script&gt;   &lt;/body&gt; &lt;/html&gt;     \"></iframe><p><p>"
      ],
      "text/plain": [
       "<pytrevl.render.IpythonHC at 0x10f375460>"
      ]
     },
     "execution_count": 12,
     "metadata": {},
     "output_type": "execute_result"
    }
   ],
   "source": [
    "gh_4_bar_chart.show()"
   ]
  },
  {
   "cell_type": "code",
   "execution_count": 13,
   "metadata": {},
   "outputs": [],
   "source": [
    "bb_6_style = pyt.Style(title = \"Ghosting Gründe\")\n",
    "bb_6_question_key = pyt.Filter(variable = \"question_key\", operator = \"equals\", value = \"BB-6\")\n",
    "\n",
    "\n",
    "bb_6_line_chart = pyt.LineChart(\n",
    "    id = \"BB-6\",\n",
    "    cube = cube,\n",
    "    style = bb_6_style,\n",
    "    measure = \"answer_count\",\n",
    "    dimension = \"survey_id\",\n",
    "    filters = [\n",
    "        bb_6_question_key\n",
    "    ]\n",
    ")"
   ]
  },
  {
   "cell_type": "code",
   "execution_count": 14,
   "metadata": {},
   "outputs": [
    {
     "data": {
      "text/html": [
       "<p><p><iframe width=800 height=400 srcdoc=\" &lt;!DOCTYPE html&gt; &lt;html lang=&quot;en&quot;&gt;   &lt;head&gt;     &lt;meta charset=&quot;utf-8&quot; /&gt;     &lt;link href=&quot;https://www.highcharts.com/highslide/highslide.css&quot; rel=&quot;stylesheet&quot; /&gt;     &lt;script type=&quot;text/javascript&quot; src=&quot;https://ajax.googleapis.com/ajax/libs/jquery/1.9.1/jquery.min.js&quot;&gt;&lt;/script&gt;     &lt;script type=&quot;text/javascript&quot; src=&quot;https://code.highcharts.com/6/highcharts.js&quot;&gt;&lt;/script&gt;     &lt;script type=&quot;text/javascript&quot; src=&quot;https://code.highcharts.com/6/highcharts-more.js&quot;&gt;&lt;/script&gt;     &lt;script type=&quot;text/javascript&quot; src=&quot;https://code.highcharts.com/6/modules/heatmap.js&quot;&gt;&lt;/script&gt;     &lt;script type=&quot;text/javascript&quot; src=&quot;https://code.highcharts.com/6/modules/exporting.js&quot;&gt;&lt;/script&gt;   &lt;/head&gt;   &lt;body style=&quot;margin:0;padding:0&quot;&gt;     &lt;div id=&quot;container&quot; style=&quot;&quot;&gt;Loading....&lt;/div&gt;     &lt;script&gt;     console.log(&#x27;A&#x27;);       $(function(){         console.log(&#x27;AA&#x27;);         Highcharts.setOptions({ &quot;global&quot;: {}, &quot;lang&quot;: {}, });         var options = {&quot;chart&quot;: {&quot;type&quot;: &quot;line&quot;}, &quot;title&quot;: {&quot;text&quot;: &quot;Ghosting Gr\\u00fcnde&quot;}, &quot;series&quot;: [{&quot;name&quot;: &quot;$test_hrm.survey_id&quot;, &quot;data&quot;: [[220005, 1238], [210010, 838], [210004, 765]]}], &quot;id&quot;: &quot;BB-6&quot;, &quot;type&quot;: &quot;chart&quot;};         var chart = new Highcharts.Chart(&#x27;container&#x27;, options);         console.log(&#x27;B&#x27;);        });     console.log(&#x27;BB&#x27;);     &lt;/script&gt;   &lt;/body&gt; &lt;/html&gt;     \"></iframe><p><p>"
      ],
      "text/plain": [
       "<pytrevl.render.IpythonHC at 0x10f37b8e0>"
      ]
     },
     "execution_count": 14,
     "metadata": {},
     "output_type": "execute_result"
    }
   ],
   "source": [
    "bb_6_line_chart.show()"
   ]
  },
  {
   "cell_type": "code",
   "execution_count": 15,
   "metadata": {},
   "outputs": [
    {
     "data": {
      "text/plain": [
       "'A-1'"
      ]
     },
     "execution_count": 15,
     "metadata": {},
     "output_type": "execute_result"
    }
   ],
   "source": [
    "test_dashboard.add_component(bb_26_pie_chart)\n",
    "test_dashboard.add_component(gh_4_bar_chart)\n",
    "test_dashboard.add_component(bb_6_line_chart)\n",
    "test_dashboard.add_component(a_1_donut)"
   ]
  },
  {
   "cell_type": "code",
   "execution_count": 16,
   "metadata": {},
   "outputs": [
    {
     "data": {
      "text/plain": [
       "{'BB-26': <pytrevl.components.PieChart at 0x12f7d5c10>,\n",
       " 'GH-4': <pytrevl.components.BarChart at 0x12f7e77f0>,\n",
       " 'BB-6': <pytrevl.components.LineChart at 0x12f7d5bb0>,\n",
       " 'A-1': <pytrevl.components.DonutChart at 0x12f7e7370>}"
      ]
     },
     "execution_count": 16,
     "metadata": {},
     "output_type": "execute_result"
    }
   ],
   "source": [
    "test_dashboard.components"
   ]
  },
  {
   "cell_type": "code",
   "execution_count": 17,
   "metadata": {},
   "outputs": [
    {
     "data": {
      "text/html": [
       "<p><p><iframe width=800 height=400 srcdoc=\" &lt;!DOCTYPE html&gt; &lt;html lang=&quot;en&quot;&gt;   &lt;head&gt;     &lt;meta charset=&quot;utf-8&quot; /&gt;     &lt;link href=&quot;https://www.highcharts.com/highslide/highslide.css&quot; rel=&quot;stylesheet&quot; /&gt;     &lt;script type=&quot;text/javascript&quot; src=&quot;https://ajax.googleapis.com/ajax/libs/jquery/1.9.1/jquery.min.js&quot;&gt;&lt;/script&gt;     &lt;script type=&quot;text/javascript&quot; src=&quot;https://code.highcharts.com/6/highcharts.js&quot;&gt;&lt;/script&gt;     &lt;script type=&quot;text/javascript&quot; src=&quot;https://code.highcharts.com/6/highcharts-more.js&quot;&gt;&lt;/script&gt;     &lt;script type=&quot;text/javascript&quot; src=&quot;https://code.highcharts.com/6/modules/heatmap.js&quot;&gt;&lt;/script&gt;     &lt;script type=&quot;text/javascript&quot; src=&quot;https://code.highcharts.com/6/modules/exporting.js&quot;&gt;&lt;/script&gt;   &lt;/head&gt;   &lt;body style=&quot;margin:0;padding:0&quot;&gt;     &lt;div id=&quot;container&quot; style=&quot;&quot;&gt;Loading....&lt;/div&gt;     &lt;script&gt;     console.log(&#x27;A&#x27;);       $(function(){         console.log(&#x27;AA&#x27;);         Highcharts.setOptions({ &quot;global&quot;: {}, &quot;lang&quot;: {}, });         var options = {&quot;chart&quot;: {&quot;type&quot;: &quot;pie&quot;}, &quot;title&quot;: {&quot;text&quot;: &quot;Dauer Erstkontakt bis Vertragsangebot&quot;}, &quot;series&quot;: [{&quot;data&quot;: [{&quot;name&quot;: &quot;bis zu 2 Wochen&quot;, &quot;y&quot;: 345}, {&quot;name&quot;: &quot;bis zu 1 Monat&quot;, &quot;y&quot;: 257}, {&quot;name&quot;: &quot;bis zu 3 Wochen&quot;, &quot;y&quot;: 249}, {&quot;name&quot;: &quot;bis zu 1 Woche&quot;, &quot;y&quot;: 232}, {&quot;name&quot;: &quot;bis zu 2 Monaten&quot;, &quot;y&quot;: 90}, {&quot;name&quot;: &quot;bis zu 3 Tage&quot;, &quot;y&quot;: 74}, {&quot;name&quot;: &quot;bis zu 3 Monaten und l\\u00e4nger&quot;, &quot;y&quot;: 34}]}], &quot;id&quot;: &quot;BB-26&quot;, &quot;type&quot;: &quot;chart&quot;};         var chart = new Highcharts.Chart(&#x27;container&#x27;, options);         console.log(&#x27;B&#x27;);        });     console.log(&#x27;BB&#x27;);     &lt;/script&gt;   &lt;/body&gt; &lt;/html&gt;     \"></iframe><p><p>"
      ],
      "text/plain": [
       "<pytrevl.render.IpythonHC at 0x10f3d3040>"
      ]
     },
     "metadata": {},
     "output_type": "display_data"
    },
    {
     "data": {
      "text/html": [
       "<p><p><iframe width=800 height=400 srcdoc=\" &lt;!DOCTYPE html&gt; &lt;html lang=&quot;en&quot;&gt;   &lt;head&gt;     &lt;meta charset=&quot;utf-8&quot; /&gt;     &lt;link href=&quot;https://www.highcharts.com/highslide/highslide.css&quot; rel=&quot;stylesheet&quot; /&gt;     &lt;script type=&quot;text/javascript&quot; src=&quot;https://ajax.googleapis.com/ajax/libs/jquery/1.9.1/jquery.min.js&quot;&gt;&lt;/script&gt;     &lt;script type=&quot;text/javascript&quot; src=&quot;https://code.highcharts.com/6/highcharts.js&quot;&gt;&lt;/script&gt;     &lt;script type=&quot;text/javascript&quot; src=&quot;https://code.highcharts.com/6/highcharts-more.js&quot;&gt;&lt;/script&gt;     &lt;script type=&quot;text/javascript&quot; src=&quot;https://code.highcharts.com/6/modules/heatmap.js&quot;&gt;&lt;/script&gt;     &lt;script type=&quot;text/javascript&quot; src=&quot;https://code.highcharts.com/6/modules/exporting.js&quot;&gt;&lt;/script&gt;   &lt;/head&gt;   &lt;body style=&quot;margin:0;padding:0&quot;&gt;     &lt;div id=&quot;container&quot; style=&quot;&quot;&gt;Loading....&lt;/div&gt;     &lt;script&gt;     console.log(&#x27;A&#x27;);       $(function(){         console.log(&#x27;AA&#x27;);         Highcharts.setOptions({ &quot;global&quot;: {}, &quot;lang&quot;: {}, });         var options = {&quot;chart&quot;: {&quot;type&quot;: &quot;column&quot;}, &quot;title&quot;: {&quot;text&quot;: &quot;Ghosting Gr\\u00fcnde&quot;}, &quot;series&quot;: [{&quot;name&quot;: &quot;$test_hrm.option_text&quot;, &quot;data&quot;: [[0, 44], [1, 37], [2, 34], [3, 29], [4, 25], [5, 24], [6, 22], [7, 18], [8, 16], [9, 13], [10, 6]]}], &quot;id&quot;: &quot;GH-4&quot;, &quot;type&quot;: &quot;chart&quot;, &quot;xAxis&quot;: {&quot;categories&quot;: [&quot;Schlechte Kommunikation&quot;, &quot;Schlechter Gesamteindruck des Unternehmens&quot;, &quot;Schlechter Eindruck des Ansprechpartners&quot;, &quot;Ich hatte ein besseres Angebot eines anderes Arbeitgebers.&quot;, &quot;Unangenehmes Arbeitsklima&quot;, &quot;Fehlende R\\u00fcckmeldung&quot;, &quot;Zu hohe Arbeitsbelastung&quot;, &quot;Mangelnde Einarbeitung&quot;, &quot;Versagens\\u00e4ngste&quot;, &quot;Fehlende Eingangsbest\\u00e4tigung&quot;, &quot;Sonstige&quot;]}};         var chart = new Highcharts.Chart(&#x27;container&#x27;, options);         console.log(&#x27;B&#x27;);        });     console.log(&#x27;BB&#x27;);     &lt;/script&gt;   &lt;/body&gt; &lt;/html&gt;     \"></iframe><p><p>"
      ],
      "text/plain": [
       "<pytrevl.render.IpythonHC at 0x10f393ca0>"
      ]
     },
     "metadata": {},
     "output_type": "display_data"
    },
    {
     "data": {
      "text/html": [
       "<p><p><iframe width=800 height=400 srcdoc=\" &lt;!DOCTYPE html&gt; &lt;html lang=&quot;en&quot;&gt;   &lt;head&gt;     &lt;meta charset=&quot;utf-8&quot; /&gt;     &lt;link href=&quot;https://www.highcharts.com/highslide/highslide.css&quot; rel=&quot;stylesheet&quot; /&gt;     &lt;script type=&quot;text/javascript&quot; src=&quot;https://ajax.googleapis.com/ajax/libs/jquery/1.9.1/jquery.min.js&quot;&gt;&lt;/script&gt;     &lt;script type=&quot;text/javascript&quot; src=&quot;https://code.highcharts.com/6/highcharts.js&quot;&gt;&lt;/script&gt;     &lt;script type=&quot;text/javascript&quot; src=&quot;https://code.highcharts.com/6/highcharts-more.js&quot;&gt;&lt;/script&gt;     &lt;script type=&quot;text/javascript&quot; src=&quot;https://code.highcharts.com/6/modules/heatmap.js&quot;&gt;&lt;/script&gt;     &lt;script type=&quot;text/javascript&quot; src=&quot;https://code.highcharts.com/6/modules/exporting.js&quot;&gt;&lt;/script&gt;   &lt;/head&gt;   &lt;body style=&quot;margin:0;padding:0&quot;&gt;     &lt;div id=&quot;container&quot; style=&quot;&quot;&gt;Loading....&lt;/div&gt;     &lt;script&gt;     console.log(&#x27;A&#x27;);       $(function(){         console.log(&#x27;AA&#x27;);         Highcharts.setOptions({ &quot;global&quot;: {}, &quot;lang&quot;: {}, });         var options = {&quot;chart&quot;: {&quot;type&quot;: &quot;line&quot;}, &quot;title&quot;: {&quot;text&quot;: &quot;Ghosting Gr\\u00fcnde&quot;}, &quot;series&quot;: [{&quot;name&quot;: &quot;$test_hrm.survey_id&quot;, &quot;data&quot;: [[220005, 1238], [210010, 838], [210004, 765]]}], &quot;id&quot;: &quot;BB-6&quot;, &quot;type&quot;: &quot;chart&quot;};         var chart = new Highcharts.Chart(&#x27;container&#x27;, options);         console.log(&#x27;B&#x27;);        });     console.log(&#x27;BB&#x27;);     &lt;/script&gt;   &lt;/body&gt; &lt;/html&gt;     \"></iframe><p><p>"
      ],
      "text/plain": [
       "<pytrevl.render.IpythonHC at 0x10f3d3040>"
      ]
     },
     "metadata": {},
     "output_type": "display_data"
    },
    {
     "data": {
      "text/html": [
       "<p><p><iframe width=800 height=400 srcdoc=\" &lt;!DOCTYPE html&gt; &lt;html lang=&quot;en&quot;&gt;   &lt;head&gt;     &lt;meta charset=&quot;utf-8&quot; /&gt;     &lt;link href=&quot;https://www.highcharts.com/highslide/highslide.css&quot; rel=&quot;stylesheet&quot; /&gt;     &lt;script type=&quot;text/javascript&quot; src=&quot;https://ajax.googleapis.com/ajax/libs/jquery/1.9.1/jquery.min.js&quot;&gt;&lt;/script&gt;     &lt;script type=&quot;text/javascript&quot; src=&quot;https://code.highcharts.com/6/highcharts.js&quot;&gt;&lt;/script&gt;     &lt;script type=&quot;text/javascript&quot; src=&quot;https://code.highcharts.com/6/highcharts-more.js&quot;&gt;&lt;/script&gt;     &lt;script type=&quot;text/javascript&quot; src=&quot;https://code.highcharts.com/6/modules/heatmap.js&quot;&gt;&lt;/script&gt;     &lt;script type=&quot;text/javascript&quot; src=&quot;https://code.highcharts.com/6/modules/exporting.js&quot;&gt;&lt;/script&gt;   &lt;/head&gt;   &lt;body style=&quot;margin:0;padding:0&quot;&gt;     &lt;div id=&quot;container&quot; style=&quot;&quot;&gt;Loading....&lt;/div&gt;     &lt;script&gt;     console.log(&#x27;A&#x27;);       $(function(){         console.log(&#x27;AA&#x27;);         Highcharts.setOptions({ &quot;global&quot;: {}, &quot;lang&quot;: {}, });         var options = {&quot;chart&quot;: {&quot;type&quot;: &quot;pie&quot;}, &quot;title&quot;: {&quot;text&quot;: &quot;Gender allocation&quot;}, &quot;series&quot;: [{&quot;data&quot;: [{&quot;name&quot;: &quot;Weiblich&quot;, &quot;y&quot;: 26609}, {&quot;name&quot;: &quot;M\\u00e4nnlich&quot;, &quot;y&quot;: 14279}, {&quot;name&quot;: &quot;Divers&quot;, &quot;y&quot;: 1275}], &quot;innerSize&quot;: &quot;50%&quot;}], &quot;id&quot;: &quot;A-1&quot;, &quot;type&quot;: &quot;chart&quot;};         var chart = new Highcharts.Chart(&#x27;container&#x27;, options);         console.log(&#x27;B&#x27;);        });     console.log(&#x27;BB&#x27;);     &lt;/script&gt;   &lt;/body&gt; &lt;/html&gt;     \"></iframe><p><p>"
      ],
      "text/plain": [
       "<pytrevl.render.IpythonHC at 0x10f393490>"
      ]
     },
     "metadata": {},
     "output_type": "display_data"
    }
   ],
   "source": [
    "test_dashboard.show()"
   ]
  }
 ],
 "metadata": {
  "kernelspec": {
   "display_name": "Python 3.9.15 ('pytrevl_3_9')",
   "language": "python",
   "name": "python3"
  },
  "language_info": {
   "codemirror_mode": {
    "name": "ipython",
    "version": 3
   },
   "file_extension": ".py",
   "mimetype": "text/x-python",
   "name": "python",
   "nbconvert_exporter": "python",
   "pygments_lexer": "ipython3",
   "version": "3.9.15"
  },
  "orig_nbformat": 4,
  "vscode": {
   "interpreter": {
    "hash": "729c8c5a3c2d0ca68d995f1bbb7823e13b6ce7492d52573f1fc3e64b8f369508"
   }
  }
 },
 "nbformat": 4,
 "nbformat_minor": 2
}
