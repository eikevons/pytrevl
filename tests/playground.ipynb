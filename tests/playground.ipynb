{
 "cells": [
  {
   "cell_type": "code",
   "execution_count": 1,
   "metadata": {},
   "outputs": [],
   "source": [
    "import sys\n",
    "\n",
    "sys.path.append('../')\n",
    "\n",
    "import pytrevl as pyt"
   ]
  },
  {
   "cell_type": "code",
   "execution_count": 2,
   "metadata": {},
   "outputs": [],
   "source": [
    "test_dashboard = pyt.Dashboard(\"Just a test dashbaord\")"
   ]
  },
  {
   "cell_type": "code",
   "execution_count": 3,
   "metadata": {},
   "outputs": [
    {
     "data": {
      "text/plain": [
       "'Just a test dashbaord'"
      ]
     },
     "execution_count": 3,
     "metadata": {},
     "output_type": "execute_result"
    }
   ],
   "source": [
    "test_dashboard.description"
   ]
  },
  {
   "cell_type": "code",
   "execution_count": 4,
   "metadata": {},
   "outputs": [],
   "source": [
    "bb_27_pie_chart = pyt.PieChart(\n",
    "    id = \"BB-27\",\n",
    "    cube = \"test_hrm\",\n",
    "    title = \"BB-27 by gender\",\n",
    "    x = \"gender\",\n",
    "    y = \"answer_count\",\n",
    "    filters = {\n",
    "        'survey_id': \"220006\",\n",
    "        \"question_key\": \"BB-27\"\n",
    "    }\n",
    ")"
   ]
  },
  {
   "cell_type": "code",
   "execution_count": 5,
   "metadata": {},
   "outputs": [],
   "source": [
    "gh_4_bar_chart = pyt.BarChart(\n",
    "    id = \"GH-4\",\n",
    "    cube = \"test_hrm\",\n",
    "    title = \"Ghosting Gründe\",\n",
    "    x = \"answer_count\",\n",
    "    y = \"option_text\",\n",
    "    filters = {\n",
    "        'survey_id': \"220006\",\n",
    "        \"question_key\": \"GH-4\"\n",
    "    }\n",
    ")"
   ]
  },
  {
   "cell_type": "code",
   "execution_count": 6,
   "metadata": {},
   "outputs": [],
   "source": [
    "test = bb_27_pie_chart.get_trevl()"
   ]
  },
  {
   "cell_type": "code",
   "execution_count": 7,
   "metadata": {},
   "outputs": [
    {
     "data": {
      "text/html": [
       "<iframe style=\"border:0;outline:none;overflow:hidden\" srcdoc=\"&lt;!DOCTYPE html&gt; &lt;html lang=&quot;en&quot;&gt; &lt;head&gt; &lt;meta charset=&quot;utf-8&quot; /&gt; &lt;link href=&quot;https://www.highcharts.com/highslide/highslide.css&quot; rel=&quot;stylesheet&quot; /&gt; &lt;script type=&quot;text/javascript&quot; src=&quot;https://ajax.googleapis.com/ajax/libs/jquery/1.9.1/jquery.min.js&quot;&gt;&lt;/script&gt; &lt;script type=&quot;text/javascript&quot; src=&quot;https://code.highcharts.com/6/highcharts.js&quot;&gt;&lt;/script&gt; &lt;script type=&quot;text/javascript&quot; src=&quot;https://code.highcharts.com/6/highcharts-more.js&quot;&gt;&lt;/script&gt; &lt;script type=&quot;text/javascript&quot; src=&quot;https://code.highcharts.com/6/modules/heatmap.js&quot;&gt;&lt;/script&gt; &lt;script type=&quot;text/javascript&quot; src=&quot;https://code.highcharts.com/6/modules/exporting.js&quot;&gt;&lt;/script&gt; &lt;/head&gt; &lt;body style=&quot;margin:0;padding:0&quot;&gt; &lt;div id=&quot;container&quot; style=&quot;&quot;&gt;Loading....&lt;/div&gt; &lt;script&gt; $(function(){ Highcharts.setOptions({&quot;global&quot;: {}, &quot;lang&quot;: {}}); var option = {&quot;chart&quot;: {&quot;renderTo&quot;: &quot;container&quot;}, &quot;colors&quot;: {}, &quot;credits&quot;: {&quot;enabled&quot;: false}, &quot;drilldown&quot;: {}, &quot;exporting&quot;: {}, &quot;labels&quot;: {}, &quot;legend&quot;: {}, &quot;loading&quot;: {}, &quot;navigation&quot;: {}, &quot;pane&quot;: {}, &quot;plotOptions&quot;: {}, &quot;series&quot;: {}, &quot;subtitle&quot;: {}, &quot;title&quot;: {&quot;text&quot;: &quot;BB-27 by gender&quot;}, &quot;tooltip&quot;: {}, &quot;xAxis&quot;: {}, &quot;yAxis&quot;: {}}; var chart = new Highcharts.Chart(option); var data = [{&quot;data&quot;: [[&quot;Weiblich&quot;, 779], [&quot;M\\u00e4nnlich&quot;, 477], [&quot;Divers&quot;, 15]], &quot;type&quot;: &quot;pie&quot;, &quot;name&quot;: &quot;Series 1&quot;}]; var dataLen = data.length; for (var ix = 0; ix &lt; dataLen; ix++) { chart.addSeries(data[ix]); } }); &lt;/script&gt; &lt;/body&gt; &lt;/html&gt;\" height=520 width=820></iframe>"
      ],
      "text/plain": [
       "<highcharts.highcharts.highcharts.Highchart at 0x130febbe0>"
      ]
     },
     "execution_count": 7,
     "metadata": {},
     "output_type": "execute_result"
    }
   ],
   "source": [
    "bb_27_pie_chart.show()"
   ]
  },
  {
   "cell_type": "code",
   "execution_count": 10,
   "metadata": {},
   "outputs": [],
   "source": [
    "test = gh_4_bar_chart.get_trevl()"
   ]
  },
  {
   "cell_type": "code",
   "execution_count": 12,
   "metadata": {},
   "outputs": [
    {
     "data": {
      "text/html": [
       "<iframe style=\"border:0;outline:none;overflow:hidden\" srcdoc=\"&lt;!DOCTYPE html&gt; &lt;html lang=&quot;en&quot;&gt; &lt;head&gt; &lt;meta charset=&quot;utf-8&quot; /&gt; &lt;link href=&quot;https://www.highcharts.com/highslide/highslide.css&quot; rel=&quot;stylesheet&quot; /&gt; &lt;script type=&quot;text/javascript&quot; src=&quot;https://ajax.googleapis.com/ajax/libs/jquery/1.9.1/jquery.min.js&quot;&gt;&lt;/script&gt; &lt;script type=&quot;text/javascript&quot; src=&quot;https://code.highcharts.com/6/highcharts.js&quot;&gt;&lt;/script&gt; &lt;script type=&quot;text/javascript&quot; src=&quot;https://code.highcharts.com/6/highcharts-more.js&quot;&gt;&lt;/script&gt; &lt;script type=&quot;text/javascript&quot; src=&quot;https://code.highcharts.com/6/modules/heatmap.js&quot;&gt;&lt;/script&gt; &lt;script type=&quot;text/javascript&quot; src=&quot;https://code.highcharts.com/6/modules/exporting.js&quot;&gt;&lt;/script&gt; &lt;/head&gt; &lt;body style=&quot;margin:0;padding:0&quot;&gt; &lt;div id=&quot;container&quot; style=&quot;&quot;&gt;Loading....&lt;/div&gt; &lt;script&gt; $(function(){ Highcharts.setOptions({&quot;global&quot;: {}, &quot;lang&quot;: {}}); var option = {&quot;chart&quot;: {&quot;renderTo&quot;: &quot;container&quot;}, &quot;colors&quot;: {}, &quot;credits&quot;: {&quot;enabled&quot;: false}, &quot;drilldown&quot;: {}, &quot;exporting&quot;: {}, &quot;labels&quot;: {}, &quot;legend&quot;: {}, &quot;loading&quot;: {}, &quot;navigation&quot;: {}, &quot;pane&quot;: {}, &quot;plotOptions&quot;: {}, &quot;series&quot;: {}, &quot;subtitle&quot;: {}, &quot;title&quot;: {&quot;text&quot;: &quot;Ghosting Gr\\u00fcnde&quot;}, &quot;tooltip&quot;: {}, &quot;xAxis&quot;: {&quot;categories&quot;: [&quot;Schlechte Kommunikation&quot;, &quot;Schlechter Gesamteindruck des Unternehmens&quot;, &quot;Schlechter Eindruck des Ansprechpartners&quot;, &quot;Ich hatte ein besseres Angebot eines anderes Arbeitgebers.&quot;, &quot;Unangenehmes Arbeitsklima&quot;, &quot;Fehlende R\\u00fcckmeldung&quot;, &quot;Zu hohe Arbeitsbelastung&quot;, &quot;Mangelnde Einarbeitung&quot;, &quot;Versagens\\u00e4ngste&quot;, &quot;Fehlende Eingangsbest\\u00e4tigung&quot;, &quot;Sonstige&quot;]}, &quot;yAxis&quot;: {}}; var chart = new Highcharts.Chart(option); var data = [{&quot;data&quot;: [[&quot;Schlechte Kommunikation&quot;, 44], [&quot;Schlechter Gesamteindruck des Unternehmens&quot;, 37], [&quot;Schlechter Eindruck des Ansprechpartners&quot;, 34], [&quot;Ich hatte ein besseres Angebot eines anderes Arbeitgebers.&quot;, 29], [&quot;Unangenehmes Arbeitsklima&quot;, 25], [&quot;Fehlende R\\u00fcckmeldung&quot;, 24], [&quot;Zu hohe Arbeitsbelastung&quot;, 22], [&quot;Mangelnde Einarbeitung&quot;, 18], [&quot;Versagens\\u00e4ngste&quot;, 16], [&quot;Fehlende Eingangsbest\\u00e4tigung&quot;, 13], [&quot;Sonstige&quot;, 6]], &quot;type&quot;: &quot;column&quot;, &quot;name&quot;: &quot;Series 1&quot;}]; var dataLen = data.length; for (var ix = 0; ix &lt; dataLen; ix++) { chart.addSeries(data[ix]); } }); &lt;/script&gt; &lt;/body&gt; &lt;/html&gt;\" height=520 width=820></iframe>"
      ],
      "text/plain": [
       "<highcharts.highcharts.highcharts.Highchart at 0x10fce7190>"
      ]
     },
     "execution_count": 12,
     "metadata": {},
     "output_type": "execute_result"
    }
   ],
   "source": [
    "gh_4_bar_chart.show()"
   ]
  },
  {
   "cell_type": "code",
   "execution_count": 13,
   "metadata": {},
   "outputs": [
    {
     "data": {
      "text/plain": [
       "'GH-4'"
      ]
     },
     "execution_count": 13,
     "metadata": {},
     "output_type": "execute_result"
    }
   ],
   "source": [
    "test_dashboard.add_component(bb_27_pie_chart)\n",
    "test_dashboard.add_component(gh_4_bar_chart)"
   ]
  },
  {
   "cell_type": "code",
   "execution_count": 14,
   "metadata": {},
   "outputs": [
    {
     "data": {
      "text/plain": [
       "{'BB-27': <pytrevl.components.PieChart at 0x131955e20>,\n",
       " 'GH-4': <pytrevl.components.BarChart at 0x114a4d910>}"
      ]
     },
     "execution_count": 14,
     "metadata": {},
     "output_type": "execute_result"
    }
   ],
   "source": [
    "test_dashboard.components"
   ]
  }
 ],
 "metadata": {
  "kernelspec": {
   "display_name": "Python 3.9.15 ('pytrevl_3_9')",
   "language": "python",
   "name": "python3"
  },
  "language_info": {
   "codemirror_mode": {
    "name": "ipython",
    "version": 3
   },
   "file_extension": ".py",
   "mimetype": "text/x-python",
   "name": "python",
   "nbconvert_exporter": "python",
   "pygments_lexer": "ipython3",
   "version": "3.9.15"
  },
  "orig_nbformat": 4,
  "vscode": {
   "interpreter": {
    "hash": "729c8c5a3c2d0ca68d995f1bbb7823e13b6ce7492d52573f1fc3e64b8f369508"
   }
  }
 },
 "nbformat": 4,
 "nbformat_minor": 2
}
