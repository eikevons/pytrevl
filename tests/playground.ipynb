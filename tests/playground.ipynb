{
 "cells": [
  {
   "cell_type": "code",
   "execution_count": 1,
   "metadata": {},
   "outputs": [],
   "source": [
    "import sys\n",
    "\n",
    "sys.path.append('../')\n",
    "\n",
    "import pytrevl as pyt\n",
    "\n",
    "import yaml\n",
    "import requests"
   ]
  },
  {
   "cell_type": "code",
   "execution_count": 2,
   "metadata": {},
   "outputs": [],
   "source": [
    "test_dashboard = pyt.Dashboard(\"Just a test dashboard\")"
   ]
  },
  {
   "cell_type": "code",
   "execution_count": 3,
   "metadata": {},
   "outputs": [
    {
     "data": {
      "text/plain": [
       "'Just a test dashboard'"
      ]
     },
     "execution_count": 3,
     "metadata": {},
     "output_type": "execute_result"
    }
   ],
   "source": [
    "test_dashboard.description"
   ]
  },
  {
   "cell_type": "code",
   "execution_count": 9,
   "metadata": {},
   "outputs": [],
   "source": [
    "bb_26_pie_chart = pyt.PieChart(\n",
    "    id = \"BB-26\",\n",
    "    cube = \"test_hrm\",\n",
    "    title = \"BB-26 by gender\",\n",
    "    y = \"gender\",\n",
    "    x = \"answer_count\",\n",
    "    filters = [\n",
    "        [\"question_key\", \"equals\", \"BB-26\"]\n",
    "    ]\n",
    ")"
   ]
  },
  {
   "cell_type": "code",
   "execution_count": 10,
   "metadata": {},
   "outputs": [
    {
     "ename": "Exception",
     "evalue": "X-MIDDLE API ERROR RESPONSE: Failed to execute 1th main query of component BB-26: Column 'gender' not found in cube 'test_hrm'! Are you using the correct cube and/or column?  REQUEST: {'abstractConfig': {'description': 'Placeholder', 'parameters': [], 'components': [{'id': 'BB-26', 'type': 'chart', 'queries': [{'measures': ['test_hrm.gender'], 'dimensions': ['test_hrm.answer_count'], 'filters': [{'member': 'test_hrm.question_key', 'operator': 'equals', 'values': ['BB-26']}]}], 'display': {'chart': {'type': 'pie'}, 'title': {'text': 'BB-26 by gender'}, 'series': [{'name': '$test_hrm.gender', 'x': '$test_hrm.gender', 'y': '$test_hrm.answer_count'}]}}]}}",
     "output_type": "error",
     "traceback": [
      "\u001b[0;31m---------------------------------------------------------------------------\u001b[0m",
      "\u001b[0;31mException\u001b[0m                                 Traceback (most recent call last)",
      "Cell \u001b[0;32mIn[10], line 1\u001b[0m\n\u001b[0;32m----> 1\u001b[0m chart \u001b[39m=\u001b[39m bb_26_pie_chart\u001b[39m.\u001b[39;49mshow()\n",
      "File \u001b[0;32m~/Desktop/Trendence/pytrevl/pytrevl/tests/../pytrevl/components.py:39\u001b[0m, in \u001b[0;36mPieChart.show\u001b[0;34m(self)\u001b[0m\n\u001b[1;32m     37\u001b[0m \u001b[39mdef\u001b[39;00m \u001b[39mshow\u001b[39m(\u001b[39mself\u001b[39m) \u001b[39m-\u001b[39m\u001b[39m>\u001b[39m Highchart:\n\u001b[1;32m     38\u001b[0m     x_middle_api \u001b[39m=\u001b[39m X_Middle(\u001b[39mself\u001b[39m)\n\u001b[0;32m---> 39\u001b[0m     chart \u001b[39m=\u001b[39m x_middle_api\u001b[39m.\u001b[39;49mget_chart()\n\u001b[1;32m     40\u001b[0m     \u001b[39mreturn\u001b[39;00m chart\n",
      "File \u001b[0;32m~/Desktop/Trendence/pytrevl/pytrevl/tests/../pytrevl/api/x_middle.py:28\u001b[0m, in \u001b[0;36mX_Middle.get_chart\u001b[0;34m(self)\u001b[0m\n\u001b[1;32m     25\u001b[0m yaml_object \u001b[39m=\u001b[39m \u001b[39mself\u001b[39m\u001b[39m.\u001b[39mget_yaml_object_without_trevl()\n\u001b[1;32m     27\u001b[0m \u001b[39m# Post and receive request to X-Middle API\u001b[39;00m\n\u001b[0;32m---> 28\u001b[0m x_middle_response \u001b[39m=\u001b[39m \u001b[39mself\u001b[39;49m\u001b[39m.\u001b[39;49mpost_request(yaml_object\u001b[39m=\u001b[39;49myaml_object, http_auth\u001b[39m=\u001b[39;49mhttp_auth)\n\u001b[1;32m     30\u001b[0m \u001b[39m# Extract JSON information from post request response\u001b[39;00m\n\u001b[1;32m     31\u001b[0m \u001b[39mself\u001b[39m\u001b[39m.\u001b[39mhighcharts_json \u001b[39m=\u001b[39m x_middle_response\u001b[39m.\u001b[39mjson()[\u001b[39m\"\u001b[39m\u001b[39mcomponents\u001b[39m\u001b[39m\"\u001b[39m][\u001b[39m0\u001b[39m]\n",
      "File \u001b[0;32m~/Desktop/Trendence/pytrevl/pytrevl/tests/../pytrevl/api/x_middle.py:88\u001b[0m, in \u001b[0;36mX_Middle.post_request\u001b[0;34m(self, yaml_object, http_auth)\u001b[0m\n\u001b[1;32m     85\u001b[0m response \u001b[39m=\u001b[39m requests\u001b[39m.\u001b[39mpost(\u001b[39mf\u001b[39m\u001b[39m'\u001b[39m\u001b[39m{\u001b[39;00mbase_url\u001b[39m}\u001b[39;00m\u001b[39m/dashboards\u001b[39m\u001b[39m'\u001b[39m, auth\u001b[39m=\u001b[39mhttp_auth, json\u001b[39m=\u001b[39mreq)\n\u001b[1;32m     87\u001b[0m \u001b[39mif\u001b[39;00m \u001b[39m\"\u001b[39m\u001b[39merror\u001b[39m\u001b[39m\"\u001b[39m \u001b[39min\u001b[39;00m response\u001b[39m.\u001b[39mjson():\n\u001b[0;32m---> 88\u001b[0m     \u001b[39mraise\u001b[39;00m \u001b[39mException\u001b[39;00m(\u001b[39m\"\u001b[39m\u001b[39mX-MIDDLE API ERROR RESPONSE: \u001b[39m\u001b[39m\"\u001b[39m \u001b[39m+\u001b[39m response\u001b[39m.\u001b[39mjson()[\u001b[39m\"\u001b[39m\u001b[39merror\u001b[39m\u001b[39m\"\u001b[39m] \u001b[39m+\u001b[39m \u001b[39m\"\u001b[39m\u001b[39m  REQUEST: \u001b[39m\u001b[39m\"\u001b[39m \u001b[39m+\u001b[39m \u001b[39mstr\u001b[39m(req))\n\u001b[1;32m     90\u001b[0m \u001b[39mreturn\u001b[39;00m response\n",
      "\u001b[0;31mException\u001b[0m: X-MIDDLE API ERROR RESPONSE: Failed to execute 1th main query of component BB-26: Column 'gender' not found in cube 'test_hrm'! Are you using the correct cube and/or column?  REQUEST: {'abstractConfig': {'description': 'Placeholder', 'parameters': [], 'components': [{'id': 'BB-26', 'type': 'chart', 'queries': [{'measures': ['test_hrm.gender'], 'dimensions': ['test_hrm.answer_count'], 'filters': [{'member': 'test_hrm.question_key', 'operator': 'equals', 'values': ['BB-26']}]}], 'display': {'chart': {'type': 'pie'}, 'title': {'text': 'BB-26 by gender'}, 'series': [{'name': '$test_hrm.gender', 'x': '$test_hrm.gender', 'y': '$test_hrm.answer_count'}]}}]}}"
     ]
    }
   ],
   "source": [
    "chart = bb_26_pie_chart.show()"
   ]
  },
  {
   "cell_type": "code",
   "execution_count": 6,
   "metadata": {},
   "outputs": [],
   "source": [
    "data = bb_26_pie_chart.get_data()"
   ]
  },
  {
   "cell_type": "code",
   "execution_count": 7,
   "metadata": {},
   "outputs": [
    {
     "data": {
      "text/plain": [
       "[[784, 'Weiblich'], [481, 'Männlich'], [16, 'Divers']]"
      ]
     },
     "execution_count": 7,
     "metadata": {},
     "output_type": "execute_result"
    }
   ],
   "source": [
    "data"
   ]
  },
  {
   "cell_type": "code",
   "execution_count": 8,
   "metadata": {},
   "outputs": [
    {
     "data": {
      "text/html": [
       "<iframe style=\"border:0;outline:none;overflow:hidden\" srcdoc=\"&lt;!DOCTYPE html&gt; &lt;html lang=&quot;en&quot;&gt; &lt;head&gt; &lt;meta charset=&quot;utf-8&quot; /&gt; &lt;link href=&quot;https://www.highcharts.com/highslide/highslide.css&quot; rel=&quot;stylesheet&quot; /&gt; &lt;script type=&quot;text/javascript&quot; src=&quot;https://ajax.googleapis.com/ajax/libs/jquery/1.9.1/jquery.min.js&quot;&gt;&lt;/script&gt; &lt;script type=&quot;text/javascript&quot; src=&quot;https://code.highcharts.com/6/highcharts.js&quot;&gt;&lt;/script&gt; &lt;script type=&quot;text/javascript&quot; src=&quot;https://code.highcharts.com/6/highcharts-more.js&quot;&gt;&lt;/script&gt; &lt;script type=&quot;text/javascript&quot; src=&quot;https://code.highcharts.com/6/modules/heatmap.js&quot;&gt;&lt;/script&gt; &lt;script type=&quot;text/javascript&quot; src=&quot;https://code.highcharts.com/6/modules/exporting.js&quot;&gt;&lt;/script&gt; &lt;/head&gt; &lt;body style=&quot;margin:0;padding:0&quot;&gt; &lt;div id=&quot;container&quot; style=&quot;&quot;&gt;Loading....&lt;/div&gt; &lt;script&gt; $(function(){ Highcharts.setOptions({&quot;global&quot;: {}, &quot;lang&quot;: {}}); var option = {&quot;chart&quot;: {&quot;renderTo&quot;: &quot;container&quot;}, &quot;colors&quot;: {}, &quot;credits&quot;: {&quot;enabled&quot;: false}, &quot;drilldown&quot;: {}, &quot;exporting&quot;: {}, &quot;labels&quot;: {}, &quot;legend&quot;: {}, &quot;loading&quot;: {}, &quot;navigation&quot;: {}, &quot;pane&quot;: {}, &quot;plotOptions&quot;: {}, &quot;series&quot;: {}, &quot;subtitle&quot;: {}, &quot;title&quot;: {&quot;text&quot;: &quot;BB-26 by gender&quot;}, &quot;tooltip&quot;: {}, &quot;xAxis&quot;: {}, &quot;yAxis&quot;: {}}; var chart = new Highcharts.Chart(option); var data = [{&quot;data&quot;: [[784, &quot;Weiblich&quot;], [481, &quot;M\\u00e4nnlich&quot;], [16, &quot;Divers&quot;]], &quot;type&quot;: &quot;pie&quot;, &quot;name&quot;: &quot;Series 1&quot;}]; var dataLen = data.length; for (var ix = 0; ix &lt; dataLen; ix++) { chart.addSeries(data[ix]); } }); &lt;/script&gt; &lt;/body&gt; &lt;/html&gt;\" height=520 width=820></iframe>"
      ],
      "text/plain": [
       "<highcharts.highcharts.highcharts.Highchart at 0x1146166d0>"
      ]
     },
     "execution_count": 8,
     "metadata": {},
     "output_type": "execute_result"
    }
   ],
   "source": [
    "chart"
   ]
  },
  {
   "cell_type": "code",
   "execution_count": null,
   "metadata": {},
   "outputs": [],
   "source": [
    "gh_4_bar_chart = pyt.BarChart(\n",
    "    id = \"GH-4\",\n",
    "    cube = \"test_hrm\",\n",
    "    title = \"Ghosting Gründe\",\n",
    "    x = \"answer_count\",\n",
    "    y = \"option_text\",\n",
    "    filters = [\n",
    "        [\"question_key\", \"equals\", \"GH-4\"]\n",
    "    ]\n",
    ")"
   ]
  },
  {
   "cell_type": "code",
   "execution_count": null,
   "metadata": {},
   "outputs": [],
   "source": [
    "bb_6_line_chart = pyt.LineChart(\n",
    "    id = \"BB-6\",\n",
    "    cube = \"test_hrm\",\n",
    "    title = \"Ghosting Gründe\",\n",
    "    x = \"answer_count\",\n",
    "    y = \"survey_id\",\n",
    "    filters = [\n",
    "        [\"question_key\", \"equals\", \"GH-4\"]\n",
    "    ]\n",
    ")"
   ]
  },
  {
   "cell_type": "code",
   "execution_count": null,
   "metadata": {},
   "outputs": [],
   "source": [
    "test_dashboard.add_component(bb_26_pie_chart)\n",
    "test_dashboard.add_component(gh_4_bar_chart)\n",
    "test_dashboard.add_component(bb_6_line_chart)"
   ]
  },
  {
   "cell_type": "code",
   "execution_count": null,
   "metadata": {},
   "outputs": [],
   "source": [
    "test_dashboard.components"
   ]
  },
  {
   "cell_type": "code",
   "execution_count": null,
   "metadata": {},
   "outputs": [],
   "source": [
    "test_dashboard.show()"
   ]
  },
  {
   "cell_type": "code",
   "execution_count": null,
   "metadata": {},
   "outputs": [],
   "source": []
  }
 ],
 "metadata": {
  "kernelspec": {
   "display_name": "Python 3.9.15 ('pytrevl_3_9')",
   "language": "python",
   "name": "python3"
  },
  "language_info": {
   "codemirror_mode": {
    "name": "ipython",
    "version": 3
   },
   "file_extension": ".py",
   "mimetype": "text/x-python",
   "name": "python",
   "nbconvert_exporter": "python",
   "pygments_lexer": "ipython3",
   "version": "3.9.15"
  },
  "orig_nbformat": 4,
  "vscode": {
   "interpreter": {
    "hash": "729c8c5a3c2d0ca68d995f1bbb7823e13b6ce7492d52573f1fc3e64b8f369508"
   }
  }
 },
 "nbformat": 4,
 "nbformat_minor": 2
}
