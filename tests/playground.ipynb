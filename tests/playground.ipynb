{
 "cells": [
  {
   "cell_type": "code",
   "execution_count": 1,
   "metadata": {},
   "outputs": [],
   "source": [
    "import sys\n",
    "\n",
    "sys.path.append('../')\n",
    "\n",
    "import pytrevl as pyt"
   ]
  },
  {
   "cell_type": "markdown",
   "metadata": {},
   "source": [
    "### Donut Chart - Test"
   ]
  },
  {
   "cell_type": "code",
   "execution_count": 2,
   "metadata": {},
   "outputs": [],
   "source": [
    "cube = pyt.Cube(name=\"test_hrm\")\n",
    "a_1_style = pyt.Style(title=\"Gender allocation\")\n",
    "a_1_filter = pyt.Filter(variable=\"question_key\", operator=\"equals\", value=\"A-1\")\n",
    "\n",
    "a_1_donut = pyt.DonutChart(\n",
    "    id = \"A-1\",\n",
    "    cube = cube,\n",
    "    dimension = \"option_text\",\n",
    "    measure = \"answer_count\",\n",
    "    style = a_1_style,\n",
    "    filters = [\n",
    "        a_1_filter\n",
    "    ]\n",
    ")"
   ]
  },
  {
   "cell_type": "code",
   "execution_count": 3,
   "metadata": {},
   "outputs": [],
   "source": [
    "test_json = {'description': 'Placeholder',\n",
    " 'parameters': [],\n",
    " 'components': [{'id': 'A-1',\n",
    "   'type': 'chart',\n",
    "   'queries': [{'measures': ['test_hrm.answer_count'],\n",
    "     'dimensions': ['test_hrm.option_text'],\n",
    "     'filters': [{'member': 'test_hrm.question_key',\n",
    "       'operator': 'equals',\n",
    "       'values': ['A-1']}]}],\n",
    "   'display': {'chart': {'type': 'pie'},\n",
    "    'title': {'text': 'Gender allocation'},\n",
    "    'series': [{'name': '$test_hrm.option_text',\n",
    "      'y': '$test_hrm.answer_count',\n",
    "      'innerSize': '50%'}]}}]}"
   ]
  },
  {
   "cell_type": "code",
   "execution_count": 5,
   "metadata": {},
   "outputs": [],
   "source": [
    "json_chart = pyt.CustomChart(test_json)"
   ]
  },
  {
   "cell_type": "code",
   "execution_count": 6,
   "metadata": {},
   "outputs": [
    {
     "data": {
      "text/html": [
       "<div>\n",
       "<style scoped>\n",
       "    .dataframe tbody tr th:only-of-type {\n",
       "        vertical-align: middle;\n",
       "    }\n",
       "\n",
       "    .dataframe tbody tr th {\n",
       "        vertical-align: top;\n",
       "    }\n",
       "\n",
       "    .dataframe thead th {\n",
       "        text-align: right;\n",
       "    }\n",
       "</style>\n",
       "<table border=\"1\" class=\"dataframe\">\n",
       "  <thead>\n",
       "    <tr style=\"text-align: right;\">\n",
       "      <th></th>\n",
       "      <th>Y</th>\n",
       "    </tr>\n",
       "    <tr>\n",
       "      <th>X</th>\n",
       "      <th></th>\n",
       "    </tr>\n",
       "  </thead>\n",
       "  <tbody>\n",
       "    <tr>\n",
       "      <th>Weiblich</th>\n",
       "      <td>26609</td>\n",
       "    </tr>\n",
       "    <tr>\n",
       "      <th>Männlich</th>\n",
       "      <td>14279</td>\n",
       "    </tr>\n",
       "    <tr>\n",
       "      <th>Divers</th>\n",
       "      <td>1275</td>\n",
       "    </tr>\n",
       "  </tbody>\n",
       "</table>\n",
       "</div>"
      ],
      "text/plain": [
       "              Y\n",
       "X              \n",
       "Weiblich  26609\n",
       "Männlich  14279\n",
       "Divers     1275"
      ]
     },
     "execution_count": 6,
     "metadata": {},
     "output_type": "execute_result"
    }
   ],
   "source": [
    "json_chart.get_data()"
   ]
  },
  {
   "cell_type": "code",
   "execution_count": 7,
   "metadata": {},
   "outputs": [
    {
     "data": {
      "text/html": [
       "<p><p><iframe width=800 height=400 srcdoc=\" &lt;!DOCTYPE html&gt; &lt;html lang=&quot;en&quot;&gt;   &lt;head&gt;     &lt;meta charset=&quot;utf-8&quot; /&gt;     &lt;link href=&quot;https://www.highcharts.com/highslide/highslide.css&quot; rel=&quot;stylesheet&quot; /&gt;     &lt;script type=&quot;text/javascript&quot; src=&quot;https://ajax.googleapis.com/ajax/libs/jquery/1.9.1/jquery.min.js&quot;&gt;&lt;/script&gt;     &lt;script type=&quot;text/javascript&quot; src=&quot;https://code.highcharts.com/6/highcharts.js&quot;&gt;&lt;/script&gt;     &lt;script type=&quot;text/javascript&quot; src=&quot;https://code.highcharts.com/6/highcharts-more.js&quot;&gt;&lt;/script&gt;     &lt;script type=&quot;text/javascript&quot; src=&quot;https://code.highcharts.com/6/modules/heatmap.js&quot;&gt;&lt;/script&gt;     &lt;script type=&quot;text/javascript&quot; src=&quot;https://code.highcharts.com/6/modules/exporting.js&quot;&gt;&lt;/script&gt;   &lt;/head&gt;   &lt;body style=&quot;margin:0;padding:0&quot;&gt;     &lt;div id=&quot;container&quot; style=&quot;&quot;&gt;Loading....&lt;/div&gt;     &lt;script&gt;     console.log(&#x27;A&#x27;);       $(function(){         console.log(&#x27;AA&#x27;);         Highcharts.setOptions({ &quot;global&quot;: {}, &quot;lang&quot;: {}, });         var options = {&quot;chart&quot;: {&quot;type&quot;: &quot;pie&quot;}, &quot;title&quot;: {&quot;text&quot;: &quot;Gender allocation&quot;}, &quot;series&quot;: [{&quot;data&quot;: [{&quot;name&quot;: &quot;Weiblich&quot;, &quot;y&quot;: 26609}, {&quot;name&quot;: &quot;M\\u00e4nnlich&quot;, &quot;y&quot;: 14279}, {&quot;name&quot;: &quot;Divers&quot;, &quot;y&quot;: 1275}], &quot;innerSize&quot;: &quot;50%&quot;}], &quot;id&quot;: &quot;A-1&quot;, &quot;type&quot;: &quot;chart&quot;};         var chart = new Highcharts.Chart(&#x27;container&#x27;, options);         console.log(&#x27;B&#x27;);        });     console.log(&#x27;BB&#x27;);     &lt;/script&gt;   &lt;/body&gt; &lt;/html&gt;     \"></iframe><p><p>"
      ],
      "text/plain": [
       "<pytrevl.render.IpythonHC at 0x12e0fb910>"
      ]
     },
     "execution_count": 7,
     "metadata": {},
     "output_type": "execute_result"
    }
   ],
   "source": [
    "json_chart.show()"
   ]
  },
  {
   "cell_type": "code",
   "execution_count": null,
   "metadata": {},
   "outputs": [],
   "source": [
    "a_1_donut.show()"
   ]
  },
  {
   "cell_type": "code",
   "execution_count": null,
   "metadata": {},
   "outputs": [],
   "source": [
    "a_1_donut.get_json()"
   ]
  },
  {
   "attachments": {},
   "cell_type": "markdown",
   "metadata": {},
   "source": [
    "### Dashboard"
   ]
  },
  {
   "cell_type": "code",
   "execution_count": null,
   "metadata": {},
   "outputs": [],
   "source": [
    "test_dashboard = pyt.Dashboard(\"Just a test dashboard\")"
   ]
  },
  {
   "cell_type": "code",
   "execution_count": null,
   "metadata": {},
   "outputs": [],
   "source": [
    "test_dashboard.description"
   ]
  },
  {
   "attachments": {},
   "cell_type": "markdown",
   "metadata": {},
   "source": [
    "### Pie Chart"
   ]
  },
  {
   "cell_type": "code",
   "execution_count": null,
   "metadata": {},
   "outputs": [],
   "source": [
    "bb_26_style = pyt.Style(title = \"Dauer Erstkontakt bis Vertragsangebot\")\n",
    "bb_26_question_key = pyt.Filter(variable = \"question_key\", operator = \"equals\", value = \"BB-26\")\n",
    "survey_id_220006 = pyt.Filter(variable = \"survey_id\", operator = \"equals\", value = \"220006\")\n",
    "\n",
    "bb_26_pie_chart = pyt.PieChart(\n",
    "    id = \"BB-26\",\n",
    "    cube = cube,\n",
    "    dimension = \"option_text\",\n",
    "    measure = \"answer_count\",\n",
    "    style = bb_26_style,\n",
    "    filters = [\n",
    "        bb_26_question_key,\n",
    "        survey_id_220006\n",
    "    ]\n",
    ")"
   ]
  },
  {
   "cell_type": "code",
   "execution_count": null,
   "metadata": {},
   "outputs": [],
   "source": [
    "bb_26_pie_chart.get_data()"
   ]
  },
  {
   "cell_type": "code",
   "execution_count": null,
   "metadata": {},
   "outputs": [],
   "source": [
    "bb_26_pie_chart.show()"
   ]
  },
  {
   "cell_type": "code",
   "execution_count": null,
   "metadata": {},
   "outputs": [],
   "source": [
    "json = bb_26_pie_chart.get_json()"
   ]
  },
  {
   "cell_type": "code",
   "execution_count": null,
   "metadata": {},
   "outputs": [],
   "source": [
    "json"
   ]
  },
  {
   "cell_type": "code",
   "execution_count": null,
   "metadata": {},
   "outputs": [],
   "source": [
    "json"
   ]
  },
  {
   "cell_type": "code",
   "execution_count": null,
   "metadata": {},
   "outputs": [],
   "source": [
    "bb_26_pie_chart.get_yaml()"
   ]
  },
  {
   "cell_type": "code",
   "execution_count": null,
   "metadata": {},
   "outputs": [],
   "source": [
    "gh_4_style = pyt.Style(title = \"Ghosting Gründe\")\n",
    "gh_4_question_key = pyt.Filter(variable = \"question_key\", operator = \"equals\", value = \"GH-4\")\n",
    "\n",
    "gh_4_bar_chart = pyt.BarChart(\n",
    "    id = \"GH-4\",\n",
    "    cube = cube,\n",
    "    measure = \"answer_count\",\n",
    "    dimension = \"option_text\",\n",
    "    style = gh_4_style,\n",
    "    filters = [\n",
    "        gh_4_question_key\n",
    "    ]\n",
    ")"
   ]
  },
  {
   "cell_type": "code",
   "execution_count": null,
   "metadata": {},
   "outputs": [],
   "source": [
    "gh_4_bar_chart.show()"
   ]
  },
  {
   "cell_type": "code",
   "execution_count": null,
   "metadata": {},
   "outputs": [],
   "source": [
    "bb_6_style = pyt.Style(title = \"Ghosting Gründe\")\n",
    "bb_6_question_key = pyt.Filter(variable = \"question_key\", operator = \"equals\", value = \"BB-6\")\n",
    "\n",
    "\n",
    "bb_6_line_chart = pyt.LineChart(\n",
    "    id = \"BB-6\",\n",
    "    cube = cube,\n",
    "    style = bb_6_style,\n",
    "    measure = \"answer_count\",\n",
    "    dimension = \"survey_id\",\n",
    "    filters = [\n",
    "        bb_6_question_key\n",
    "    ]\n",
    ")"
   ]
  },
  {
   "cell_type": "code",
   "execution_count": null,
   "metadata": {},
   "outputs": [],
   "source": [
    "bb_6_line_chart.show()"
   ]
  },
  {
   "cell_type": "code",
   "execution_count": null,
   "metadata": {},
   "outputs": [],
   "source": [
    "test_dashboard.add_component(bb_26_pie_chart)\n",
    "test_dashboard.add_component(gh_4_bar_chart)\n",
    "test_dashboard.add_component(bb_6_line_chart)\n",
    "test_dashboard.add_component(a_1_donut)"
   ]
  },
  {
   "cell_type": "code",
   "execution_count": null,
   "metadata": {},
   "outputs": [],
   "source": [
    "test_dashboard.components"
   ]
  },
  {
   "cell_type": "code",
   "execution_count": null,
   "metadata": {},
   "outputs": [],
   "source": [
    "test_dashboard.show()"
   ]
  },
  {
   "cell_type": "code",
   "execution_count": null,
   "metadata": {},
   "outputs": [],
   "source": [
    "test_dashboard.get_yaml()"
   ]
  },
  {
   "cell_type": "code",
   "execution_count": null,
   "metadata": {},
   "outputs": [],
   "source": [
    "test_dashboard.components"
   ]
  },
  {
   "cell_type": "code",
   "execution_count": null,
   "metadata": {},
   "outputs": [],
   "source": [
    "bb_26_pie_chart.get_data()"
   ]
  },
  {
   "cell_type": "code",
   "execution_count": null,
   "metadata": {},
   "outputs": [],
   "source": [
    "gh_4_bar_chart.get_data()"
   ]
  },
  {
   "cell_type": "code",
   "execution_count": null,
   "metadata": {},
   "outputs": [],
   "source": []
  }
 ],
 "metadata": {
  "kernelspec": {
   "display_name": "Python 3.9.15 ('pytrevl_3_9')",
   "language": "python",
   "name": "python3"
  },
  "language_info": {
   "codemirror_mode": {
    "name": "ipython",
    "version": 3
   },
   "file_extension": ".py",
   "mimetype": "text/x-python",
   "name": "python",
   "nbconvert_exporter": "python",
   "pygments_lexer": "ipython3",
   "version": "3.9.15"
  },
  "orig_nbformat": 4,
  "vscode": {
   "interpreter": {
    "hash": "729c8c5a3c2d0ca68d995f1bbb7823e13b6ce7492d52573f1fc3e64b8f369508"
   }
  }
 },
 "nbformat": 4,
 "nbformat_minor": 2
}
