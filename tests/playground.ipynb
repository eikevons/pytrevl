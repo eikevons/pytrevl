{
 "cells": [
  {
   "cell_type": "code",
   "execution_count": 6,
   "metadata": {},
   "outputs": [],
   "source": [
    "import sys\n",
    "\n",
    "sys.path.append('../')\n",
    "\n",
    "import pytrevl as pyt"
   ]
  },
  {
   "cell_type": "markdown",
   "metadata": {},
   "source": [
    "### Donut Chart - Test"
   ]
  },
  {
   "cell_type": "code",
   "execution_count": 7,
   "metadata": {},
   "outputs": [],
   "source": [
    "test_donut = pyt.DonutChart(\n",
    "    id = \"BB-26\",\n",
    "    cube = \"test_hrm\",\n",
    "    title = \"Dauer Erstkontakt bis Vertragsangebot\",\n",
    "    size = \"40%\",\n",
    "    innerSize= \"50%\",\n",
    "    dimension = \"option_text\",\n",
    "    measure = \"answer_count\",\n",
    "    filters = [\n",
    "        [\"question_key\", \"equals\", \"A-1\"]\n",
    "    ]\n",
    ")"
   ]
  },
  {
   "cell_type": "code",
   "execution_count": 9,
   "metadata": {},
   "outputs": [
    {
     "data": {
      "text/plain": [
       "{'description': 'Placeholder',\n",
       " 'parameters': [],\n",
       " 'components': [{'id': 'BB-26',\n",
       "   'type': 'chart',\n",
       "   'queries': [{'measures': ['test_hrm.answer_count'],\n",
       "     'dimensions': ['test_hrm.option_text'],\n",
       "     'filters': [{'member': 'test_hrm.question_key',\n",
       "       'operator': 'equals',\n",
       "       'values': ['A-1']}]}],\n",
       "   'display': {'chart': {'type': 'donut'},\n",
       "    'title': {'text': 'Dauer Erstkontakt bis Vertragsangebot'},\n",
       "    'series': [{'name': '$test_hrm.option_text',\n",
       "      'x': '$test_hrm.option_text',\n",
       "      'y': '$test_hrm.answer_count',\n",
       "      'size': '40%',\n",
       "      'innerSize': '50%'}]}}]}"
      ]
     },
     "execution_count": 9,
     "metadata": {},
     "output_type": "execute_result"
    }
   ],
   "source": [
    "test_donut.get_yaml()"
   ]
  },
  {
   "cell_type": "code",
   "execution_count": null,
   "metadata": {},
   "outputs": [],
   "source": []
  },
  {
   "cell_type": "markdown",
   "metadata": {},
   "source": [
    "### Dashboard - Test"
   ]
  },
  {
   "cell_type": "code",
   "execution_count": null,
   "metadata": {},
   "outputs": [],
   "source": [
    "test_dashboard = pyt.Dashboard(\"Just a test dashboard\")"
   ]
  },
  {
   "cell_type": "code",
   "execution_count": null,
   "metadata": {},
   "outputs": [],
   "source": [
    "test_dashboard.description"
   ]
  },
  {
   "cell_type": "code",
   "execution_count": 10,
   "metadata": {},
   "outputs": [],
   "source": [
    "bb_26_pie_chart = pyt.PieChart(\n",
    "    id = \"BB-26\",\n",
    "    cube = \"test_hrm\",\n",
    "    title = \"Dauer Erstkontakt bis Vertragsangebot\",\n",
    "    dimension = \"option_text\",\n",
    "    measure = \"answer_count\",\n",
    "    filters = [\n",
    "        [\"question_key\", \"equals\", \"A-1\"],\n",
    "        [\"survey_id\", \"equals\", \"220006\"]\n",
    "    ]\n",
    ")"
   ]
  },
  {
   "cell_type": "code",
   "execution_count": 11,
   "metadata": {},
   "outputs": [],
   "source": [
    "#bb_26_pie_chart.get_trevl()"
   ]
  },
  {
   "cell_type": "code",
   "execution_count": 12,
   "metadata": {},
   "outputs": [
    {
     "data": {
      "text/html": [
       "<iframe style=\"border:0;outline:none;overflow:hidden\" srcdoc=\"&lt;!DOCTYPE html&gt; &lt;html lang=&quot;en&quot;&gt; &lt;head&gt; &lt;meta charset=&quot;utf-8&quot; /&gt; &lt;link href=&quot;https://www.highcharts.com/highslide/highslide.css&quot; rel=&quot;stylesheet&quot; /&gt; &lt;script type=&quot;text/javascript&quot; src=&quot;https://ajax.googleapis.com/ajax/libs/jquery/1.9.1/jquery.min.js&quot;&gt;&lt;/script&gt; &lt;script type=&quot;text/javascript&quot; src=&quot;https://code.highcharts.com/6/highcharts.js&quot;&gt;&lt;/script&gt; &lt;script type=&quot;text/javascript&quot; src=&quot;https://code.highcharts.com/6/highcharts-more.js&quot;&gt;&lt;/script&gt; &lt;script type=&quot;text/javascript&quot; src=&quot;https://code.highcharts.com/6/modules/heatmap.js&quot;&gt;&lt;/script&gt; &lt;script type=&quot;text/javascript&quot; src=&quot;https://code.highcharts.com/6/modules/exporting.js&quot;&gt;&lt;/script&gt; &lt;/head&gt; &lt;body style=&quot;margin:0;padding:0&quot;&gt; &lt;div id=&quot;container&quot; style=&quot;&quot;&gt;Loading....&lt;/div&gt; &lt;script&gt; $(function(){ Highcharts.setOptions({&quot;global&quot;: {}, &quot;lang&quot;: {}}); var option = {&quot;chart&quot;: {&quot;renderTo&quot;: &quot;container&quot;}, &quot;colors&quot;: {}, &quot;credits&quot;: {&quot;enabled&quot;: false}, &quot;drilldown&quot;: {}, &quot;exporting&quot;: {}, &quot;labels&quot;: {}, &quot;legend&quot;: {}, &quot;loading&quot;: {}, &quot;navigation&quot;: {}, &quot;pane&quot;: {}, &quot;plotOptions&quot;: {}, &quot;series&quot;: {}, &quot;subtitle&quot;: {}, &quot;title&quot;: {&quot;text&quot;: &quot;Dauer Erstkontakt bis Vertragsangebot&quot;}, &quot;tooltip&quot;: {}, &quot;xAxis&quot;: {}, &quot;yAxis&quot;: {}}; var chart = new Highcharts.Chart(option); var data = [{&quot;data&quot;: [[&quot;Weiblich&quot;, 817], [&quot;M\\u00e4nnlich&quot;, 493], [&quot;Divers&quot;, 17]], &quot;type&quot;: &quot;pie&quot;, &quot;name&quot;: &quot;Series 1&quot;}]; var dataLen = data.length; for (var ix = 0; ix &lt; dataLen; ix++) { chart.addSeries(data[ix]); } }); &lt;/script&gt; &lt;/body&gt; &lt;/html&gt;\" height=520 width=820></iframe>"
      ],
      "text/plain": [
       "<highcharts.highcharts.highcharts.Highchart at 0x13041e0d0>"
      ]
     },
     "execution_count": 12,
     "metadata": {},
     "output_type": "execute_result"
    }
   ],
   "source": [
    "bb_26_pie_chart.show()"
   ]
  },
  {
   "cell_type": "code",
   "execution_count": 13,
   "metadata": {},
   "outputs": [
    {
     "data": {
      "text/plain": [
       "{'description': 'Placeholder',\n",
       " 'parameters': [],\n",
       " 'components': [{'id': 'BB-26',\n",
       "   'type': 'chart',\n",
       "   'queries': [{'measures': ['test_hrm.answer_count'],\n",
       "     'dimensions': ['test_hrm.option_text'],\n",
       "     'filters': [{'member': 'test_hrm.question_key',\n",
       "       'operator': 'equals',\n",
       "       'values': ['A-1']},\n",
       "      {'member': 'test_hrm.survey_id',\n",
       "       'operator': 'equals',\n",
       "       'values': ['220006']}]}],\n",
       "   'display': {'chart': {'type': 'pie'},\n",
       "    'title': {'text': 'Dauer Erstkontakt bis Vertragsangebot'},\n",
       "    'series': [{'name': '$test_hrm.option_text',\n",
       "      'x': '$test_hrm.option_text',\n",
       "      'y': '$test_hrm.answer_count'}]}}]}"
      ]
     },
     "execution_count": 13,
     "metadata": {},
     "output_type": "execute_result"
    }
   ],
   "source": [
    "bb_26_pie_chart.get_yaml()"
   ]
  },
  {
   "cell_type": "code",
   "execution_count": null,
   "metadata": {},
   "outputs": [],
   "source": [
    "bb_26_data = bb_26_pie_chart.get_data()"
   ]
  },
  {
   "cell_type": "code",
   "execution_count": null,
   "metadata": {},
   "outputs": [],
   "source": [
    "bb_26_data"
   ]
  },
  {
   "cell_type": "code",
   "execution_count": null,
   "metadata": {},
   "outputs": [],
   "source": [
    "yaml = bb_26_pie_chart.get_yaml()"
   ]
  },
  {
   "cell_type": "code",
   "execution_count": null,
   "metadata": {},
   "outputs": [],
   "source": [
    "yaml"
   ]
  },
  {
   "cell_type": "code",
   "execution_count": null,
   "metadata": {},
   "outputs": [],
   "source": []
  },
  {
   "cell_type": "code",
   "execution_count": null,
   "metadata": {},
   "outputs": [],
   "source": [
    "gh_4_bar_chart = pyt.BarChart(\n",
    "    id = \"GH-4\",\n",
    "    cube = \"test_hrm\",\n",
    "    title = \"Ghosting Gründe\",\n",
    "    measure = \"answer_count\",\n",
    "    dimension = \"option_text\",\n",
    "    filters = [\n",
    "        [\"question_key\", \"equals\", \"GH-4\"]\n",
    "    ]\n",
    ")"
   ]
  },
  {
   "cell_type": "code",
   "execution_count": null,
   "metadata": {},
   "outputs": [],
   "source": [
    "gh_4_bar_chart.show()"
   ]
  },
  {
   "cell_type": "code",
   "execution_count": null,
   "metadata": {},
   "outputs": [],
   "source": [
    "bb_6_line_chart = pyt.LineChart(\n",
    "    id = \"BB-6\",\n",
    "    cube = \"test_hrm\",\n",
    "    title = \"Ghosting Gründe\",\n",
    "    measure = \"answer_count\",\n",
    "    dimension = \"survey_id\",\n",
    "    filters = [\n",
    "        [\"question_key\", \"equals\", \"GH-4\"]\n",
    "    ]\n",
    ")"
   ]
  },
  {
   "cell_type": "code",
   "execution_count": null,
   "metadata": {},
   "outputs": [],
   "source": [
    "test_dashboard.add_component(bb_26_pie_chart)\n",
    "test_dashboard.add_component(gh_4_bar_chart)\n",
    "test_dashboard.add_component(bb_6_line_chart)"
   ]
  },
  {
   "cell_type": "code",
   "execution_count": null,
   "metadata": {},
   "outputs": [],
   "source": [
    "test_dashboard.components"
   ]
  },
  {
   "cell_type": "code",
   "execution_count": null,
   "metadata": {},
   "outputs": [],
   "source": [
    "test_dashboard.show()"
   ]
  },
  {
   "cell_type": "code",
   "execution_count": null,
   "metadata": {},
   "outputs": [],
   "source": []
  }
 ],
 "metadata": {
  "kernelspec": {
   "display_name": "Python 3.9.15 ('pytrevl_3_9')",
   "language": "python",
   "name": "python3"
  },
  "language_info": {
   "codemirror_mode": {
    "name": "ipython",
    "version": 3
   },
   "file_extension": ".py",
   "mimetype": "text/x-python",
   "name": "python",
   "nbconvert_exporter": "python",
   "pygments_lexer": "ipython3",
   "version": "3.9.15"
  },
  "orig_nbformat": 4,
  "vscode": {
   "interpreter": {
    "hash": "729c8c5a3c2d0ca68d995f1bbb7823e13b6ce7492d52573f1fc3e64b8f369508"
   }
  }
 },
 "nbformat": 4,
 "nbformat_minor": 2
}
