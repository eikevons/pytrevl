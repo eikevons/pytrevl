{
 "cells": [
  {
   "cell_type": "code",
   "execution_count": 1,
   "metadata": {},
   "outputs": [],
   "source": [
    "import sys\n",
    "\n",
    "sys.path.append('../')\n",
    "\n",
    "import pytrevl as pyt"
   ]
  },
  {
   "cell_type": "code",
   "execution_count": 2,
   "metadata": {},
   "outputs": [],
   "source": [
    "test_dashboard = pyt.Dashboard(\"Just a test dashboard\")"
   ]
  },
  {
   "cell_type": "code",
   "execution_count": 3,
   "metadata": {},
   "outputs": [
    {
     "data": {
      "text/plain": [
       "'Just a test dashboard'"
      ]
     },
     "execution_count": 3,
     "metadata": {},
     "output_type": "execute_result"
    }
   ],
   "source": [
    "test_dashboard.description"
   ]
  },
  {
   "cell_type": "code",
   "execution_count": 33,
   "metadata": {},
   "outputs": [],
   "source": [
    "bb_26_pie_chart = pyt.PieChart(\n",
    "    id = \"BB-26\",\n",
    "    cube = \"test_hrm\",\n",
    "    title = \"Dauer Erstkontakt bis Vertragsangebot\",\n",
    "    dimension = \"option_text\",\n",
    "    measure = \"answer_count\",\n",
    "    filters = [\n",
    "        [\"question_key\", \"equals\", \"A-1\"],\n",
    "        [\"survey_id\", \"equals\", \"220006\"]\n",
    "    ]\n",
    ")"
   ]
  },
  {
   "cell_type": "code",
   "execution_count": 34,
   "metadata": {},
   "outputs": [],
   "source": [
    "#bb_26_pie_chart.get_trevl()"
   ]
  },
  {
   "cell_type": "code",
   "execution_count": 35,
   "metadata": {},
   "outputs": [
    {
     "ename": "Exception",
     "evalue": "X-MIDDLE API ERROR RESPONSE: Failed to execute 1th main query of component BB-26: Error: Access Denied: Project trd-dwh-dev: User does not have bigquery.datasets.create permission in project trd-dwh-dev.  REQUEST: {'abstractConfig': {'description': 'Placeholder', 'parameters': [], 'components': [{'id': 'BB-26', 'type': 'chart', 'queries': [{'measures': ['test_hrm.answer_count'], 'dimensions': ['test_hrm.option_text'], 'filters': [{'member': 'test_hrm.question_key', 'operator': 'equals', 'values': ['A-1']}, {'member': 'test_hrm.survey_id', 'operator': 'equals', 'values': ['220006']}]}], 'display': {'chart': {'type': 'pie'}, 'title': {'text': 'Dauer Erstkontakt bis Vertragsangebot'}, 'series': [{'name': '$test_hrm.option_text', 'x': '$test_hrm.option_text', 'y': '$test_hrm.answer_count'}]}}]}}",
     "output_type": "error",
     "traceback": [
      "\u001b[0;31m---------------------------------------------------------------------------\u001b[0m",
      "\u001b[0;31mException\u001b[0m                                 Traceback (most recent call last)",
      "Cell \u001b[0;32mIn[35], line 1\u001b[0m\n\u001b[0;32m----> 1\u001b[0m bb_26_pie_chart\u001b[39m.\u001b[39;49mshow()\n",
      "File \u001b[0;32m~/Desktop/Trendence/pytrevl/pytrevl/tests/../pytrevl/chart_parent_class.py:29\u001b[0m, in \u001b[0;36mChart.show\u001b[0;34m(self)\u001b[0m\n\u001b[1;32m     27\u001b[0m \u001b[39mdef\u001b[39;00m \u001b[39mshow\u001b[39m(\u001b[39mself\u001b[39m) \u001b[39m-\u001b[39m\u001b[39m>\u001b[39m Highchart:\n\u001b[1;32m     28\u001b[0m     x_middle_api \u001b[39m=\u001b[39m X_Middle(\u001b[39mself\u001b[39m)\n\u001b[0;32m---> 29\u001b[0m     chart \u001b[39m=\u001b[39m x_middle_api\u001b[39m.\u001b[39;49mget_chart()\n\u001b[1;32m     30\u001b[0m     \u001b[39mreturn\u001b[39;00m chart\n",
      "File \u001b[0;32m~/Desktop/Trendence/pytrevl/pytrevl/tests/../pytrevl/api/x_middle.py:29\u001b[0m, in \u001b[0;36mX_Middle.get_chart\u001b[0;34m(self)\u001b[0m\n\u001b[1;32m     26\u001b[0m yaml_object \u001b[39m=\u001b[39m \u001b[39mself\u001b[39m\u001b[39m.\u001b[39mget_yaml_object_without_trevl()\n\u001b[1;32m     28\u001b[0m \u001b[39m# Post and receive request to X-Middle API\u001b[39;00m\n\u001b[0;32m---> 29\u001b[0m x_middle_response \u001b[39m=\u001b[39m \u001b[39mself\u001b[39;49m\u001b[39m.\u001b[39;49mpost_request(yaml_object\u001b[39m=\u001b[39;49myaml_object, http_auth\u001b[39m=\u001b[39;49mhttp_auth)\n\u001b[1;32m     31\u001b[0m \u001b[39m# Extract JSON information from post request response\u001b[39;00m\n\u001b[1;32m     32\u001b[0m \u001b[39mself\u001b[39m\u001b[39m.\u001b[39mhighcharts_json \u001b[39m=\u001b[39m x_middle_response\u001b[39m.\u001b[39mjson()[\u001b[39m\"\u001b[39m\u001b[39mcomponents\u001b[39m\u001b[39m\"\u001b[39m][\u001b[39m0\u001b[39m]\n",
      "File \u001b[0;32m~/Desktop/Trendence/pytrevl/pytrevl/tests/../pytrevl/api/x_middle.py:92\u001b[0m, in \u001b[0;36mX_Middle.post_request\u001b[0;34m(self, yaml_object, http_auth)\u001b[0m\n\u001b[1;32m     89\u001b[0m response \u001b[39m=\u001b[39m requests\u001b[39m.\u001b[39mpost(\u001b[39mf\u001b[39m\u001b[39m'\u001b[39m\u001b[39m{\u001b[39;00mbase_url\u001b[39m}\u001b[39;00m\u001b[39m/dashboards\u001b[39m\u001b[39m'\u001b[39m, auth\u001b[39m=\u001b[39mhttp_auth, json\u001b[39m=\u001b[39mreq)\n\u001b[1;32m     91\u001b[0m \u001b[39mif\u001b[39;00m \u001b[39m\"\u001b[39m\u001b[39merror\u001b[39m\u001b[39m\"\u001b[39m \u001b[39min\u001b[39;00m response\u001b[39m.\u001b[39mjson():\n\u001b[0;32m---> 92\u001b[0m     \u001b[39mraise\u001b[39;00m \u001b[39mException\u001b[39;00m(\u001b[39m\"\u001b[39m\u001b[39mX-MIDDLE API ERROR RESPONSE: \u001b[39m\u001b[39m\"\u001b[39m \u001b[39m+\u001b[39m response\u001b[39m.\u001b[39mjson()[\u001b[39m\"\u001b[39m\u001b[39merror\u001b[39m\u001b[39m\"\u001b[39m] \u001b[39m+\u001b[39m \u001b[39m\"\u001b[39m\u001b[39m  REQUEST: \u001b[39m\u001b[39m\"\u001b[39m \u001b[39m+\u001b[39m \u001b[39mstr\u001b[39m(req))\n\u001b[1;32m     94\u001b[0m \u001b[39mreturn\u001b[39;00m response\n",
      "\u001b[0;31mException\u001b[0m: X-MIDDLE API ERROR RESPONSE: Failed to execute 1th main query of component BB-26: Error: Access Denied: Project trd-dwh-dev: User does not have bigquery.datasets.create permission in project trd-dwh-dev.  REQUEST: {'abstractConfig': {'description': 'Placeholder', 'parameters': [], 'components': [{'id': 'BB-26', 'type': 'chart', 'queries': [{'measures': ['test_hrm.answer_count'], 'dimensions': ['test_hrm.option_text'], 'filters': [{'member': 'test_hrm.question_key', 'operator': 'equals', 'values': ['A-1']}, {'member': 'test_hrm.survey_id', 'operator': 'equals', 'values': ['220006']}]}], 'display': {'chart': {'type': 'pie'}, 'title': {'text': 'Dauer Erstkontakt bis Vertragsangebot'}, 'series': [{'name': '$test_hrm.option_text', 'x': '$test_hrm.option_text', 'y': '$test_hrm.answer_count'}]}}]}}"
     ]
    }
   ],
   "source": [
    "bb_26_pie_chart.show()"
   ]
  },
  {
   "cell_type": "code",
   "execution_count": null,
   "metadata": {},
   "outputs": [],
   "source": [
    "bb_26_data = bb_26_pie_chart.get_data()"
   ]
  },
  {
   "cell_type": "code",
   "execution_count": null,
   "metadata": {},
   "outputs": [],
   "source": [
    "bb_26_data"
   ]
  },
  {
   "cell_type": "code",
   "execution_count": null,
   "metadata": {},
   "outputs": [],
   "source": [
    "bb_26_pie_chart.get_yaml()"
   ]
  },
  {
   "cell_type": "code",
   "execution_count": null,
   "metadata": {},
   "outputs": [],
   "source": [
    "gh_4_bar_chart = pyt.BarChart(\n",
    "    id = \"GH-4\",\n",
    "    cube = \"test_hrm\",\n",
    "    title = \"Ghosting Gründe\",\n",
    "    measure = \"answer_count\",\n",
    "    dimension = \"option_text\",\n",
    "    filters = [\n",
    "        [\"question_key\", \"equals\", \"GH-4\"]\n",
    "    ]\n",
    ")"
   ]
  },
  {
   "cell_type": "code",
   "execution_count": null,
   "metadata": {},
   "outputs": [],
   "source": [
    "gh_4_bar_chart.show()"
   ]
  },
  {
   "cell_type": "code",
   "execution_count": null,
   "metadata": {},
   "outputs": [],
   "source": [
    "bb_6_line_chart = pyt.LineChart(\n",
    "    id = \"BB-6\",\n",
    "    cube = \"test_hrm\",\n",
    "    title = \"Ghosting Gründe\",\n",
    "    measure = \"answer_count\",\n",
    "    dimension = \"survey_id\",\n",
    "    filters = [\n",
    "        [\"question_key\", \"equals\", \"GH-4\"]\n",
    "    ]\n",
    ")"
   ]
  },
  {
   "cell_type": "code",
   "execution_count": null,
   "metadata": {},
   "outputs": [],
   "source": [
    "test_dashboard.add_component(bb_26_pie_chart)\n",
    "test_dashboard.add_component(gh_4_bar_chart)\n",
    "test_dashboard.add_component(bb_6_line_chart)"
   ]
  },
  {
   "cell_type": "code",
   "execution_count": null,
   "metadata": {},
   "outputs": [],
   "source": [
    "test_dashboard.components"
   ]
  },
  {
   "cell_type": "code",
   "execution_count": null,
   "metadata": {},
   "outputs": [],
   "source": [
    "test_dashboard.show()"
   ]
  },
  {
   "cell_type": "code",
   "execution_count": null,
   "metadata": {},
   "outputs": [],
   "source": []
  }
 ],
 "metadata": {
  "kernelspec": {
   "display_name": "Python 3.9.15 ('pytrevl_3_9')",
   "language": "python",
   "name": "python3"
  },
  "language_info": {
   "codemirror_mode": {
    "name": "ipython",
    "version": 3
   },
   "file_extension": ".py",
   "mimetype": "text/x-python",
   "name": "python",
   "nbconvert_exporter": "python",
   "pygments_lexer": "ipython3",
   "version": "3.9.15"
  },
  "orig_nbformat": 4,
  "vscode": {
   "interpreter": {
    "hash": "729c8c5a3c2d0ca68d995f1bbb7823e13b6ce7492d52573f1fc3e64b8f369508"
   }
  }
 },
 "nbformat": 4,
 "nbformat_minor": 2
}
